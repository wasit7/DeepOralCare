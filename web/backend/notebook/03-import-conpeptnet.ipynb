{
 "cells": [
  {
   "cell_type": "code",
   "execution_count": null,
   "id": "121f3b6f",
   "metadata": {},
   "outputs": [],
   "source": [
    "# pip freeze > req"
   ]
  },
  {
   "cell_type": "code",
   "execution_count": null,
   "id": "d329ff16",
   "metadata": {},
   "outputs": [],
   "source": [
    "ls ./data"
   ]
  },
  {
   "cell_type": "code",
   "execution_count": null,
   "id": "5ec292ec",
   "metadata": {},
   "outputs": [],
   "source": [
    "import dask.dataframe as dd\n",
    "from py2neo import Graph\n",
    "from tqdm.auto import tqdm\n",
    "import time"
   ]
  },
  {
   "cell_type": "code",
   "execution_count": null,
   "id": "ea7d428f",
   "metadata": {},
   "outputs": [],
   "source": [
    "graph = Graph(\"bolt://neo4j:7687\", auth=(\"neo4j\", \"qwer1234\"))"
   ]
  },
  {
   "cell_type": "code",
   "execution_count": null,
   "id": "2a273e25",
   "metadata": {},
   "outputs": [],
   "source": [
    "ddf = dd.read_csv('data/conceptnet-assertions-5.7.0.csv', header=None, sep='\\t', names=['uri','relation','node_start','node_end','info'])\n",
    "ddf = ddf[ddf['node_start'].str.startswith('/c/en') & ddf['node_end'].str.startswith('/c/en')]\n",
    "ddf"
   ]
  },
  {
   "cell_type": "code",
   "execution_count": null,
   "id": "d2d436c0",
   "metadata": {},
   "outputs": [],
   "source": [
    "def create_conceptnet(df):\n",
    "    if df.shape[0] < 3:\n",
    "        return None\n",
    "    df['relation'] = df['relation'].apply(lambda x: x.split('/')[-1])\n",
    "    for index, row in tqdm(df.iterrows(), total=df.shape[0]):\n",
    "        tx = graph.begin()\n",
    "        tx.run(f\"\"\"\n",
    "            MERGE (head:conceptNet {{name:\"{row.get('node_start',\"\")}\"}})\n",
    "            MERGE (tail:conceptNet {{name:\"{row.get('node_end',\"\")}\"}})\n",
    "            MERGE (head)-[:{row.get('relation',\"\")} {{name: \"{row.get('relation',\"\")}\"}}]->(tail)\n",
    "        \"\"\")\n",
    "        graph.commit(tx)\n",
    "        if index%1000==0:\n",
    "            time.sleep(10)"
   ]
  },
  {
   "cell_type": "code",
   "execution_count": null,
   "id": "1d955371",
   "metadata": {},
   "outputs": [],
   "source": [
    "ddf.map_partitions(lambda df: create_conceptnet(df)).compute()"
   ]
  },
  {
   "cell_type": "code",
   "execution_count": null,
   "id": "a1d367f9",
   "metadata": {},
   "outputs": [],
   "source": []
  },
  {
   "cell_type": "code",
   "execution_count": null,
   "id": "c07cb2cc",
   "metadata": {},
   "outputs": [],
   "source": []
  }
 ],
 "metadata": {
  "kernelspec": {
   "display_name": "Python 3 (ipykernel)",
   "language": "python",
   "name": "python3"
  },
  "language_info": {
   "codemirror_mode": {
    "name": "ipython",
    "version": 3
   },
   "file_extension": ".py",
   "mimetype": "text/x-python",
   "name": "python",
   "nbconvert_exporter": "python",
   "pygments_lexer": "ipython3",
   "version": "3.9.15"
  }
 },
 "nbformat": 4,
 "nbformat_minor": 5
}
