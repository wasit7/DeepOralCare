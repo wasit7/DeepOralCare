{
 "cells": [
  {
   "cell_type": "code",
   "execution_count": 1,
   "id": "f5a24caf",
   "metadata": {},
   "outputs": [],
   "source": [
    "import dask.dataframe as dd\n",
    "from py2neo import Graph\n",
    "from tqdm.auto import tqdm\n",
    "import time\n",
    "from searchapp.models import Entity\n",
    "from tqdm.dask import TqdmCallback"
   ]
  },
  {
   "cell_type": "code",
   "execution_count": 2,
   "id": "ee7e51b6",
   "metadata": {},
   "outputs": [
    {
     "data": {
      "text/html": [
       "<div><strong>Dask DataFrame Structure:</strong></div>\n",
       "<div>\n",
       "<style scoped>\n",
       "    .dataframe tbody tr th:only-of-type {\n",
       "        vertical-align: middle;\n",
       "    }\n",
       "\n",
       "    .dataframe tbody tr th {\n",
       "        vertical-align: top;\n",
       "    }\n",
       "\n",
       "    .dataframe thead th {\n",
       "        text-align: right;\n",
       "    }\n",
       "</style>\n",
       "<table border=\"1\" class=\"dataframe\">\n",
       "  <thead>\n",
       "    <tr style=\"text-align: right;\">\n",
       "      <th></th>\n",
       "      <th>uri</th>\n",
       "      <th>relation</th>\n",
       "      <th>node_start</th>\n",
       "      <th>node_end</th>\n",
       "      <th>info</th>\n",
       "    </tr>\n",
       "    <tr>\n",
       "      <th>npartitions=158</th>\n",
       "      <th></th>\n",
       "      <th></th>\n",
       "      <th></th>\n",
       "      <th></th>\n",
       "      <th></th>\n",
       "    </tr>\n",
       "  </thead>\n",
       "  <tbody>\n",
       "    <tr>\n",
       "      <th></th>\n",
       "      <td>object</td>\n",
       "      <td>object</td>\n",
       "      <td>object</td>\n",
       "      <td>object</td>\n",
       "      <td>object</td>\n",
       "    </tr>\n",
       "    <tr>\n",
       "      <th></th>\n",
       "      <td>...</td>\n",
       "      <td>...</td>\n",
       "      <td>...</td>\n",
       "      <td>...</td>\n",
       "      <td>...</td>\n",
       "    </tr>\n",
       "    <tr>\n",
       "      <th>...</th>\n",
       "      <td>...</td>\n",
       "      <td>...</td>\n",
       "      <td>...</td>\n",
       "      <td>...</td>\n",
       "      <td>...</td>\n",
       "    </tr>\n",
       "    <tr>\n",
       "      <th></th>\n",
       "      <td>...</td>\n",
       "      <td>...</td>\n",
       "      <td>...</td>\n",
       "      <td>...</td>\n",
       "      <td>...</td>\n",
       "    </tr>\n",
       "    <tr>\n",
       "      <th></th>\n",
       "      <td>...</td>\n",
       "      <td>...</td>\n",
       "      <td>...</td>\n",
       "      <td>...</td>\n",
       "      <td>...</td>\n",
       "    </tr>\n",
       "  </tbody>\n",
       "</table>\n",
       "</div>\n",
       "<div>Dask Name: getitem, 7 graph layers</div>"
      ],
      "text/plain": [
       "Dask DataFrame Structure:\n",
       "                    uri relation node_start node_end    info\n",
       "npartitions=158                                             \n",
       "                 object   object     object   object  object\n",
       "                    ...      ...        ...      ...     ...\n",
       "...                 ...      ...        ...      ...     ...\n",
       "                    ...      ...        ...      ...     ...\n",
       "                    ...      ...        ...      ...     ...\n",
       "Dask Name: getitem, 7 graph layers"
      ]
     },
     "execution_count": 2,
     "metadata": {},
     "output_type": "execute_result"
    }
   ],
   "source": [
    "ddf = dd.read_csv('data/conceptnet-assertions-5.7.0.csv', header=None, sep='\\t', names=['uri','relation','node_start','node_end','info'])\n",
    "ddf = ddf[ddf['node_start'].str.startswith('/c/en') & ddf['node_end'].str.startswith('/c/en')]\n",
    "ddf"
   ]
  },
  {
   "cell_type": "code",
   "execution_count": 3,
   "id": "3396d063",
   "metadata": {},
   "outputs": [
    {
     "data": {
      "application/vnd.jupyter.widget-view+json": {
       "model_id": "652ab6830d2a4b3f8be86a745158ca8a",
       "version_major": 2,
       "version_minor": 0
      },
      "text/plain": [
       "global:   0%|          | 0/182 [00:00<?, ?it/s]"
      ]
     },
     "metadata": {},
     "output_type": "display_data"
    }
   ],
   "source": [
    "cb = TqdmCallback(desc=\"global\")\n",
    "cb.register()\n",
    "names = list(ddf['node_start'].unique().compute())"
   ]
  },
  {
   "cell_type": "code",
   "execution_count": 4,
   "id": "79b55d41",
   "metadata": {},
   "outputs": [
    {
     "data": {
      "text/plain": [
       "1432324"
      ]
     },
     "execution_count": 4,
     "metadata": {},
     "output_type": "execute_result"
    }
   ],
   "source": [
    "len(names)"
   ]
  },
  {
   "cell_type": "code",
   "execution_count": null,
   "id": "81eaaab0",
   "metadata": {},
   "outputs": [],
   "source": [
    "# data = [\n",
    "#     Entity(\n",
    "#         id=elm,\n",
    "#         name=elm.replace('/c/en/',''), \n",
    "#         attribute={\n",
    "#             'dataset': \"ConceptNet\"\n",
    "#         }\n",
    "#     ) for elm in names\n",
    "# ]\n",
    "# Entity.objects.bulk_create(data)"
   ]
  },
  {
   "cell_type": "code",
   "execution_count": 13,
   "id": "37f3e5ef",
   "metadata": {},
   "outputs": [
    {
     "data": {
      "application/vnd.jupyter.widget-view+json": {
       "model_id": "966ec0e2ca6b4269a0c2b9a6c3383a60",
       "version_major": 2,
       "version_minor": 0
      },
      "text/plain": [
       "  0%|          | 0/144 [00:00<?, ?it/s]"
      ]
     },
     "metadata": {},
     "output_type": "display_data"
    }
   ],
   "source": [
    "k = 10000\n",
    "for i in tqdm(range(0, len(names), k)):\n",
    "    _data = names[i:i+k]\n",
    "    data = [\n",
    "        Entity(\n",
    "            id=elm,\n",
    "            name=elm.replace('/c/en/',''), \n",
    "            attribute={\n",
    "                'dataset': \"ConceptNet\"\n",
    "            }\n",
    "        ) for elm in _data\n",
    "    ]\n",
    "    Entity.objects.bulk_create(data)"
   ]
  },
  {
   "cell_type": "code",
   "execution_count": 12,
   "id": "640c507d",
   "metadata": {},
   "outputs": [
    {
     "data": {
      "text/plain": [
       "(3079158, {'searchapp.Entity': 3079158})"
      ]
     },
     "execution_count": 12,
     "metadata": {},
     "output_type": "execute_result"
    }
   ],
   "source": [
    "# Entity.objects.all().delete()"
   ]
  },
  {
   "cell_type": "code",
   "execution_count": null,
   "id": "7553425d",
   "metadata": {},
   "outputs": [],
   "source": []
  }
 ],
 "metadata": {
  "kernelspec": {
   "display_name": "Django Shell-Plus",
   "language": "python",
   "name": "django_extensions"
  },
  "language_info": {
   "codemirror_mode": {
    "name": "ipython",
    "version": 3
   },
   "file_extension": ".py",
   "mimetype": "text/x-python",
   "name": "python",
   "nbconvert_exporter": "python",
   "pygments_lexer": "ipython3",
   "version": "3.9.15"
  }
 },
 "nbformat": 4,
 "nbformat_minor": 5
}
