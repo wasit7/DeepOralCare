{
 "cells": [
  {
   "cell_type": "code",
   "execution_count": 1,
   "id": "f5a24caf",
   "metadata": {},
   "outputs": [],
   "source": [
    "import dask.dataframe as dd\n",
    "from py2neo import Graph\n",
    "from tqdm.auto import tqdm\n",
    "import time\n",
    "from searchapp.models import Entity\n",
    "from tqdm.dask import TqdmCallback"
   ]
  },
  {
   "cell_type": "code",
   "execution_count": 2,
   "id": "ee7e51b6",
   "metadata": {},
   "outputs": [
    {
     "data": {
      "text/html": [
       "<div><strong>Dask DataFrame Structure:</strong></div>\n",
       "<div>\n",
       "<style scoped>\n",
       "    .dataframe tbody tr th:only-of-type {\n",
       "        vertical-align: middle;\n",
       "    }\n",
       "\n",
       "    .dataframe tbody tr th {\n",
       "        vertical-align: top;\n",
       "    }\n",
       "\n",
       "    .dataframe thead th {\n",
       "        text-align: right;\n",
       "    }\n",
       "</style>\n",
       "<table border=\"1\" class=\"dataframe\">\n",
       "  <thead>\n",
       "    <tr style=\"text-align: right;\">\n",
       "      <th></th>\n",
       "      <th>uri</th>\n",
       "      <th>relation</th>\n",
       "      <th>node_start</th>\n",
       "      <th>node_end</th>\n",
       "      <th>info</th>\n",
       "    </tr>\n",
       "    <tr>\n",
       "      <th>npartitions=158</th>\n",
       "      <th></th>\n",
       "      <th></th>\n",
       "      <th></th>\n",
       "      <th></th>\n",
       "      <th></th>\n",
       "    </tr>\n",
       "  </thead>\n",
       "  <tbody>\n",
       "    <tr>\n",
       "      <th></th>\n",
       "      <td>object</td>\n",
       "      <td>object</td>\n",
       "      <td>object</td>\n",
       "      <td>object</td>\n",
       "      <td>object</td>\n",
       "    </tr>\n",
       "    <tr>\n",
       "      <th></th>\n",
       "      <td>...</td>\n",
       "      <td>...</td>\n",
       "      <td>...</td>\n",
       "      <td>...</td>\n",
       "      <td>...</td>\n",
       "    </tr>\n",
       "    <tr>\n",
       "      <th>...</th>\n",
       "      <td>...</td>\n",
       "      <td>...</td>\n",
       "      <td>...</td>\n",
       "      <td>...</td>\n",
       "      <td>...</td>\n",
       "    </tr>\n",
       "    <tr>\n",
       "      <th></th>\n",
       "      <td>...</td>\n",
       "      <td>...</td>\n",
       "      <td>...</td>\n",
       "      <td>...</td>\n",
       "      <td>...</td>\n",
       "    </tr>\n",
       "    <tr>\n",
       "      <th></th>\n",
       "      <td>...</td>\n",
       "      <td>...</td>\n",
       "      <td>...</td>\n",
       "      <td>...</td>\n",
       "      <td>...</td>\n",
       "    </tr>\n",
       "  </tbody>\n",
       "</table>\n",
       "</div>\n",
       "<div>Dask Name: getitem, 7 graph layers</div>"
      ],
      "text/plain": [
       "Dask DataFrame Structure:\n",
       "                    uri relation node_start node_end    info\n",
       "npartitions=158                                             \n",
       "                 object   object     object   object  object\n",
       "                    ...      ...        ...      ...     ...\n",
       "...                 ...      ...        ...      ...     ...\n",
       "                    ...      ...        ...      ...     ...\n",
       "                    ...      ...        ...      ...     ...\n",
       "Dask Name: getitem, 7 graph layers"
      ]
     },
     "execution_count": 2,
     "metadata": {},
     "output_type": "execute_result"
    }
   ],
   "source": [
    "ddf = dd.read_csv('data/conceptnet-assertions-5.7.0.csv', header=None, sep='\\t', names=['uri','relation','node_start','node_end','info'])\n",
    "ddf = ddf[ddf['node_start'].str.startswith('/c/en') & ddf['node_end'].str.startswith('/c/en')]\n",
    "ddf"
   ]
  },
  {
   "cell_type": "code",
   "execution_count": 3,
   "id": "cd730038",
   "metadata": {},
   "outputs": [],
   "source": [
    "def create_concepnet(df, col):\n",
    "    if df.shape[0] < 3:\n",
    "        return None\n",
    "    names = list(df[col].unique())\n",
    "    objs = [elm.name for elm in Entity.objects.filter(name__in=names)]\n",
    "    data = [Entity(name=elm, attribute={}) for elm in list(set(names) - set(objs))]\n",
    "    Entity.objects.bulk_create(data)"
   ]
  },
  {
   "cell_type": "code",
   "execution_count": 4,
   "id": "19804004",
   "metadata": {},
   "outputs": [
    {
     "data": {
      "application/vnd.jupyter.widget-view+json": {
       "model_id": "f547ff1bd0694c8db15cbd5b1de9f4fb",
       "version_major": 2,
       "version_minor": 0
      },
      "text/plain": [
       "global:   0%|          | 0/158 [00:00<?, ?it/s]"
      ]
     },
     "metadata": {},
     "output_type": "display_data"
    },
    {
     "data": {
      "text/plain": [
       "0      None\n",
       "1      None\n",
       "2      None\n",
       "3      None\n",
       "4      None\n",
       "       ... \n",
       "153    None\n",
       "154    None\n",
       "155    None\n",
       "156    None\n",
       "157    None\n",
       "Length: 158, dtype: object"
      ]
     },
     "execution_count": 4,
     "metadata": {},
     "output_type": "execute_result"
    }
   ],
   "source": [
    "cb = TqdmCallback(desc=\"global\")\n",
    "cb.register()\n",
    "ddf.map_partitions(lambda x: create_concepnet(x, 'node_start')).compute()"
   ]
  },
  {
   "cell_type": "code",
   "execution_count": 8,
   "id": "1d5e43dc",
   "metadata": {},
   "outputs": [],
   "source": []
  },
  {
   "cell_type": "code",
   "execution_count": null,
   "id": "0b495b57",
   "metadata": {},
   "outputs": [],
   "source": []
  }
 ],
 "metadata": {
  "kernelspec": {
   "display_name": "Django Shell-Plus",
   "language": "python",
   "name": "django_extensions"
  },
  "language_info": {
   "codemirror_mode": {
    "name": "ipython",
    "version": 3
   },
   "file_extension": ".py",
   "mimetype": "text/x-python",
   "name": "python",
   "nbconvert_exporter": "python",
   "pygments_lexer": "ipython3",
   "version": "3.9.15"
  }
 },
 "nbformat": 4,
 "nbformat_minor": 5
}
