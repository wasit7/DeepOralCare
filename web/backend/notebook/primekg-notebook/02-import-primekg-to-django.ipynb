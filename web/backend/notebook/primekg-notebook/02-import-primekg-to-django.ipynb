{
 "cells": [
  {
   "cell_type": "code",
   "execution_count": 3,
   "id": "8c85de2c",
   "metadata": {},
   "outputs": [],
   "source": [
    "from tqdm import tqdm, trange\n",
    "import pandas as pd"
   ]
  },
  {
   "cell_type": "code",
   "execution_count": 7,
   "id": "1ab39fbf",
   "metadata": {},
   "outputs": [],
   "source": [
    "from searchapp.models import Entity, Label"
   ]
  },
  {
   "cell_type": "code",
   "execution_count": 8,
   "id": "c2e77556",
   "metadata": {},
   "outputs": [],
   "source": [
    "df_nodes = pd.read_csv(\"../data/kg_nodes_id.csv\", low_memory=False)"
   ]
  },
  {
   "cell_type": "code",
   "execution_count": 9,
   "id": "fcbd70b3",
   "metadata": {},
   "outputs": [
    {
     "data": {
      "text/html": [
       "<div>\n",
       "<style scoped>\n",
       "    .dataframe tbody tr th:only-of-type {\n",
       "        vertical-align: middle;\n",
       "    }\n",
       "\n",
       "    .dataframe tbody tr th {\n",
       "        vertical-align: top;\n",
       "    }\n",
       "\n",
       "    .dataframe thead th {\n",
       "        text-align: right;\n",
       "    }\n",
       "</style>\n",
       "<table border=\"1\" class=\"dataframe\">\n",
       "  <thead>\n",
       "    <tr style=\"text-align: right;\">\n",
       "      <th></th>\n",
       "      <th>id:ID</th>\n",
       "      <th>x_id</th>\n",
       "      <th>:LABEL</th>\n",
       "      <th>name</th>\n",
       "      <th>source</th>\n",
       "      <th>original_name</th>\n",
       "    </tr>\n",
       "  </thead>\n",
       "  <tbody>\n",
       "    <tr>\n",
       "      <th>0</th>\n",
       "      <td>NCBI_9796_PHYHIP</td>\n",
       "      <td>9796</td>\n",
       "      <td>Gene/Protein</td>\n",
       "      <td>phyhip</td>\n",
       "      <td>NCBI</td>\n",
       "      <td>PHYHIP</td>\n",
       "    </tr>\n",
       "    <tr>\n",
       "      <th>1</th>\n",
       "      <td>NCBI_7918_GPANK1</td>\n",
       "      <td>7918</td>\n",
       "      <td>Gene/Protein</td>\n",
       "      <td>gpank1</td>\n",
       "      <td>NCBI</td>\n",
       "      <td>GPANK1</td>\n",
       "    </tr>\n",
       "    <tr>\n",
       "      <th>2</th>\n",
       "      <td>NCBI_8233_ZRSR2</td>\n",
       "      <td>8233</td>\n",
       "      <td>Gene/Protein</td>\n",
       "      <td>zrsr2</td>\n",
       "      <td>NCBI</td>\n",
       "      <td>ZRSR2</td>\n",
       "    </tr>\n",
       "    <tr>\n",
       "      <th>3</th>\n",
       "      <td>NCBI_4899_NRF1</td>\n",
       "      <td>4899</td>\n",
       "      <td>Gene/Protein</td>\n",
       "      <td>nrf1</td>\n",
       "      <td>NCBI</td>\n",
       "      <td>NRF1</td>\n",
       "    </tr>\n",
       "    <tr>\n",
       "      <th>4</th>\n",
       "      <td>NCBI_5297_PI4KA</td>\n",
       "      <td>5297</td>\n",
       "      <td>Gene/Protein</td>\n",
       "      <td>pi4ka</td>\n",
       "      <td>NCBI</td>\n",
       "      <td>PI4KA</td>\n",
       "    </tr>\n",
       "    <tr>\n",
       "      <th>...</th>\n",
       "      <td>...</td>\n",
       "      <td>...</td>\n",
       "      <td>...</td>\n",
       "      <td>...</td>\n",
       "      <td>...</td>\n",
       "      <td>...</td>\n",
       "    </tr>\n",
       "    <tr>\n",
       "      <th>129370</th>\n",
       "      <td>REACTOME_R-HSA-936837_Ion_transport_by_P-type_...</td>\n",
       "      <td>R-HSA-936837</td>\n",
       "      <td>Pathway</td>\n",
       "      <td>ion transport by p-type atpases</td>\n",
       "      <td>REACTOME</td>\n",
       "      <td>Ion transport by P-type ATPases</td>\n",
       "    </tr>\n",
       "    <tr>\n",
       "      <th>129371</th>\n",
       "      <td>REACTOME_R-HSA-997272_Inhibition__of_voltage_g...</td>\n",
       "      <td>R-HSA-997272</td>\n",
       "      <td>Pathway</td>\n",
       "      <td>inhibition  of voltage gated ca2+ channels via...</td>\n",
       "      <td>REACTOME</td>\n",
       "      <td>Inhibition  of voltage gated Ca2+ channels via...</td>\n",
       "    </tr>\n",
       "    <tr>\n",
       "      <th>129372</th>\n",
       "      <td>UBERON_1062_anatomical_entity</td>\n",
       "      <td>1062</td>\n",
       "      <td>Anatomy</td>\n",
       "      <td>anatomical entity</td>\n",
       "      <td>UBERON</td>\n",
       "      <td>anatomical entity</td>\n",
       "    </tr>\n",
       "    <tr>\n",
       "      <th>129373</th>\n",
       "      <td>UBERON_468_multi-cellular_organism</td>\n",
       "      <td>468</td>\n",
       "      <td>Anatomy</td>\n",
       "      <td>multi-cellular organism</td>\n",
       "      <td>UBERON</td>\n",
       "      <td>multi-cellular organism</td>\n",
       "    </tr>\n",
       "    <tr>\n",
       "      <th>129374</th>\n",
       "      <td>UBERON_992_female_gonad</td>\n",
       "      <td>992</td>\n",
       "      <td>Anatomy</td>\n",
       "      <td>female gonad</td>\n",
       "      <td>UBERON</td>\n",
       "      <td>female gonad</td>\n",
       "    </tr>\n",
       "  </tbody>\n",
       "</table>\n",
       "<p>129375 rows × 6 columns</p>\n",
       "</div>"
      ],
      "text/plain": [
       "                                                    id:ID          x_id  \\\n",
       "0                                        NCBI_9796_PHYHIP          9796   \n",
       "1                                        NCBI_7918_GPANK1          7918   \n",
       "2                                         NCBI_8233_ZRSR2          8233   \n",
       "3                                          NCBI_4899_NRF1          4899   \n",
       "4                                         NCBI_5297_PI4KA          5297   \n",
       "...                                                   ...           ...   \n",
       "129370  REACTOME_R-HSA-936837_Ion_transport_by_P-type_...  R-HSA-936837   \n",
       "129371  REACTOME_R-HSA-997272_Inhibition__of_voltage_g...  R-HSA-997272   \n",
       "129372                      UBERON_1062_anatomical_entity          1062   \n",
       "129373                 UBERON_468_multi-cellular_organism           468   \n",
       "129374                            UBERON_992_female_gonad           992   \n",
       "\n",
       "              :LABEL                                               name  \\\n",
       "0       Gene/Protein                                             phyhip   \n",
       "1       Gene/Protein                                             gpank1   \n",
       "2       Gene/Protein                                              zrsr2   \n",
       "3       Gene/Protein                                               nrf1   \n",
       "4       Gene/Protein                                              pi4ka   \n",
       "...              ...                                                ...   \n",
       "129370       Pathway                    ion transport by p-type atpases   \n",
       "129371       Pathway  inhibition  of voltage gated ca2+ channels via...   \n",
       "129372       Anatomy                                  anatomical entity   \n",
       "129373       Anatomy                            multi-cellular organism   \n",
       "129374       Anatomy                                       female gonad   \n",
       "\n",
       "          source                                      original_name  \n",
       "0           NCBI                                             PHYHIP  \n",
       "1           NCBI                                             GPANK1  \n",
       "2           NCBI                                              ZRSR2  \n",
       "3           NCBI                                               NRF1  \n",
       "4           NCBI                                              PI4KA  \n",
       "...          ...                                                ...  \n",
       "129370  REACTOME                    Ion transport by P-type ATPases  \n",
       "129371  REACTOME  Inhibition  of voltage gated Ca2+ channels via...  \n",
       "129372    UBERON                                  anatomical entity  \n",
       "129373    UBERON                            multi-cellular organism  \n",
       "129374    UBERON                                       female gonad  \n",
       "\n",
       "[129375 rows x 6 columns]"
      ]
     },
     "execution_count": 9,
     "metadata": {},
     "output_type": "execute_result"
    }
   ],
   "source": [
    "df_nodes"
   ]
  },
  {
   "cell_type": "code",
   "execution_count": 11,
   "id": "cc97a8ab",
   "metadata": {},
   "outputs": [
    {
     "data": {
      "text/html": [
       "<div>\n",
       "<style scoped>\n",
       "    .dataframe tbody tr th:only-of-type {\n",
       "        vertical-align: middle;\n",
       "    }\n",
       "\n",
       "    .dataframe tbody tr th {\n",
       "        vertical-align: top;\n",
       "    }\n",
       "\n",
       "    .dataframe thead th {\n",
       "        text-align: right;\n",
       "    }\n",
       "</style>\n",
       "<table border=\"1\" class=\"dataframe\">\n",
       "  <thead>\n",
       "    <tr style=\"text-align: right;\">\n",
       "      <th></th>\n",
       "      <th>id:ID</th>\n",
       "      <th>x_id</th>\n",
       "      <th>:LABEL</th>\n",
       "      <th>name</th>\n",
       "      <th>source</th>\n",
       "      <th>original_name</th>\n",
       "    </tr>\n",
       "  </thead>\n",
       "  <tbody>\n",
       "    <tr>\n",
       "      <th>0</th>\n",
       "      <td>NCBI_9796_PHYHIP</td>\n",
       "      <td>9796</td>\n",
       "      <td>Gene/Protein</td>\n",
       "      <td>phyhip</td>\n",
       "      <td>NCBI</td>\n",
       "      <td>PHYHIP</td>\n",
       "    </tr>\n",
       "    <tr>\n",
       "      <th>1</th>\n",
       "      <td>NCBI_7918_GPANK1</td>\n",
       "      <td>7918</td>\n",
       "      <td>Gene/Protein</td>\n",
       "      <td>gpank1</td>\n",
       "      <td>NCBI</td>\n",
       "      <td>GPANK1</td>\n",
       "    </tr>\n",
       "    <tr>\n",
       "      <th>2</th>\n",
       "      <td>NCBI_8233_ZRSR2</td>\n",
       "      <td>8233</td>\n",
       "      <td>Gene/Protein</td>\n",
       "      <td>zrsr2</td>\n",
       "      <td>NCBI</td>\n",
       "      <td>ZRSR2</td>\n",
       "    </tr>\n",
       "    <tr>\n",
       "      <th>3</th>\n",
       "      <td>NCBI_4899_NRF1</td>\n",
       "      <td>4899</td>\n",
       "      <td>Gene/Protein</td>\n",
       "      <td>nrf1</td>\n",
       "      <td>NCBI</td>\n",
       "      <td>NRF1</td>\n",
       "    </tr>\n",
       "    <tr>\n",
       "      <th>4</th>\n",
       "      <td>NCBI_5297_PI4KA</td>\n",
       "      <td>5297</td>\n",
       "      <td>Gene/Protein</td>\n",
       "      <td>pi4ka</td>\n",
       "      <td>NCBI</td>\n",
       "      <td>PI4KA</td>\n",
       "    </tr>\n",
       "    <tr>\n",
       "      <th>...</th>\n",
       "      <td>...</td>\n",
       "      <td>...</td>\n",
       "      <td>...</td>\n",
       "      <td>...</td>\n",
       "      <td>...</td>\n",
       "      <td>...</td>\n",
       "    </tr>\n",
       "    <tr>\n",
       "      <th>129370</th>\n",
       "      <td>REACTOME_R-HSA-936837_Ion_transport_by_P-type_...</td>\n",
       "      <td>R-HSA-936837</td>\n",
       "      <td>Pathway</td>\n",
       "      <td>ion transport by p-type atpases</td>\n",
       "      <td>REACTOME</td>\n",
       "      <td>Ion transport by P-type ATPases</td>\n",
       "    </tr>\n",
       "    <tr>\n",
       "      <th>129371</th>\n",
       "      <td>REACTOME_R-HSA-997272_Inhibition__of_voltage_g...</td>\n",
       "      <td>R-HSA-997272</td>\n",
       "      <td>Pathway</td>\n",
       "      <td>inhibition  of voltage gated ca2+ channels via...</td>\n",
       "      <td>REACTOME</td>\n",
       "      <td>Inhibition  of voltage gated Ca2+ channels via...</td>\n",
       "    </tr>\n",
       "    <tr>\n",
       "      <th>129372</th>\n",
       "      <td>UBERON_1062_anatomical_entity</td>\n",
       "      <td>1062</td>\n",
       "      <td>Anatomy</td>\n",
       "      <td>anatomical entity</td>\n",
       "      <td>UBERON</td>\n",
       "      <td>anatomical entity</td>\n",
       "    </tr>\n",
       "    <tr>\n",
       "      <th>129373</th>\n",
       "      <td>UBERON_468_multi-cellular_organism</td>\n",
       "      <td>468</td>\n",
       "      <td>Anatomy</td>\n",
       "      <td>multi-cellular organism</td>\n",
       "      <td>UBERON</td>\n",
       "      <td>multi-cellular organism</td>\n",
       "    </tr>\n",
       "    <tr>\n",
       "      <th>129374</th>\n",
       "      <td>UBERON_992_female_gonad</td>\n",
       "      <td>992</td>\n",
       "      <td>Anatomy</td>\n",
       "      <td>female gonad</td>\n",
       "      <td>UBERON</td>\n",
       "      <td>female gonad</td>\n",
       "    </tr>\n",
       "  </tbody>\n",
       "</table>\n",
       "<p>129375 rows × 6 columns</p>\n",
       "</div>"
      ],
      "text/plain": [
       "                                                    id:ID          x_id  \\\n",
       "0                                        NCBI_9796_PHYHIP          9796   \n",
       "1                                        NCBI_7918_GPANK1          7918   \n",
       "2                                         NCBI_8233_ZRSR2          8233   \n",
       "3                                          NCBI_4899_NRF1          4899   \n",
       "4                                         NCBI_5297_PI4KA          5297   \n",
       "...                                                   ...           ...   \n",
       "129370  REACTOME_R-HSA-936837_Ion_transport_by_P-type_...  R-HSA-936837   \n",
       "129371  REACTOME_R-HSA-997272_Inhibition__of_voltage_g...  R-HSA-997272   \n",
       "129372                      UBERON_1062_anatomical_entity          1062   \n",
       "129373                 UBERON_468_multi-cellular_organism           468   \n",
       "129374                            UBERON_992_female_gonad           992   \n",
       "\n",
       "              :LABEL                                               name  \\\n",
       "0       Gene/Protein                                             phyhip   \n",
       "1       Gene/Protein                                             gpank1   \n",
       "2       Gene/Protein                                              zrsr2   \n",
       "3       Gene/Protein                                               nrf1   \n",
       "4       Gene/Protein                                              pi4ka   \n",
       "...              ...                                                ...   \n",
       "129370       Pathway                    ion transport by p-type atpases   \n",
       "129371       Pathway  inhibition  of voltage gated ca2+ channels via...   \n",
       "129372       Anatomy                                  anatomical entity   \n",
       "129373       Anatomy                            multi-cellular organism   \n",
       "129374       Anatomy                                       female gonad   \n",
       "\n",
       "          source                                      original_name  \n",
       "0           NCBI                                             PHYHIP  \n",
       "1           NCBI                                             GPANK1  \n",
       "2           NCBI                                              ZRSR2  \n",
       "3           NCBI                                               NRF1  \n",
       "4           NCBI                                              PI4KA  \n",
       "...          ...                                                ...  \n",
       "129370  REACTOME                    Ion transport by P-type ATPases  \n",
       "129371  REACTOME  Inhibition  of voltage gated Ca2+ channels via...  \n",
       "129372    UBERON                                  anatomical entity  \n",
       "129373    UBERON                            multi-cellular organism  \n",
       "129374    UBERON                                       female gonad  \n",
       "\n",
       "[129375 rows x 6 columns]"
      ]
     },
     "execution_count": 11,
     "metadata": {},
     "output_type": "execute_result"
    }
   ],
   "source": [
    "df_nodes.drop_duplicates(subset=['id:ID'])"
   ]
  },
  {
   "cell_type": "markdown",
   "id": "6e059bce",
   "metadata": {},
   "source": [
    "# Import Label"
   ]
  },
  {
   "cell_type": "code",
   "execution_count": 6,
   "id": "a738eda5",
   "metadata": {
    "scrolled": true
   },
   "outputs": [
    {
     "name": "stdout",
     "output_type": "stream",
     "text": [
      "10\n"
     ]
    },
    {
     "data": {
      "text/plain": [
       "[{'id:ID': 'NCBI_9796_PHYHIP',\n",
       "  ':LABEL': 'Gene/Protein',\n",
       "  'name': 'phyhip',\n",
       "  'source': 'NCBI',\n",
       "  'original_name': 'PHYHIP'},\n",
       " {'id:ID': 'DrugBank_DB09130_Copper',\n",
       "  ':LABEL': 'Drug',\n",
       "  'name': 'copper',\n",
       "  'source': 'DrugBank',\n",
       "  'original_name': 'Copper'}]"
      ]
     },
     "execution_count": 6,
     "metadata": {},
     "output_type": "execute_result"
    }
   ],
   "source": [
    "label_data_list = df_nodes.drop_duplicates(subset=[':LABEL']).to_dict(\"records\")\n",
    "print(len(label_data_list))\n",
    "label_data_list[:2]"
   ]
  },
  {
   "cell_type": "code",
   "execution_count": 17,
   "id": "bbaf2b5a",
   "metadata": {},
   "outputs": [
    {
     "data": {
      "text/plain": [
       "[<Label: Gene/Protein>,\n",
       " <Label: Drug>,\n",
       " <Label: Effect/Phenotype>,\n",
       " <Label: Disease>,\n",
       " <Label: Biological_Process>,\n",
       " <Label: Molecular_Function>,\n",
       " <Label: Cellular_Component>,\n",
       " <Label: Exposure>,\n",
       " <Label: Pathway>,\n",
       " <Label: Anatomy>]"
      ]
     },
     "execution_count": 17,
     "metadata": {},
     "output_type": "execute_result"
    }
   ],
   "source": [
    "label_bulk_data = [Label(name=row.get(\":LABEL\")) for row in label_data_list]\n",
    "label_bulk_data"
   ]
  },
  {
   "cell_type": "code",
   "execution_count": 19,
   "id": "403df967",
   "metadata": {},
   "outputs": [
    {
     "data": {
      "text/plain": [
       "[<Label: Gene/Protein>,\n",
       " <Label: Drug>,\n",
       " <Label: Effect/Phenotype>,\n",
       " <Label: Disease>,\n",
       " <Label: Biological_Process>,\n",
       " <Label: Molecular_Function>,\n",
       " <Label: Cellular_Component>,\n",
       " <Label: Exposure>,\n",
       " <Label: Pathway>,\n",
       " <Label: Anatomy>]"
      ]
     },
     "execution_count": 19,
     "metadata": {},
     "output_type": "execute_result"
    }
   ],
   "source": [
    "Label.objects.bulk_create(label_bulk_data)"
   ]
  },
  {
   "cell_type": "markdown",
   "id": "977e2f2f",
   "metadata": {},
   "source": [
    "# Import Nodes"
   ]
  },
  {
   "cell_type": "code",
   "execution_count": 12,
   "id": "8f3d6149",
   "metadata": {},
   "outputs": [],
   "source": [
    "step = 1_000"
   ]
  },
  {
   "cell_type": "code",
   "execution_count": 13,
   "id": "8f8530de",
   "metadata": {},
   "outputs": [],
   "source": [
    "nodes_list = df_nodes.to_dict(\"records\")"
   ]
  },
  {
   "cell_type": "code",
   "execution_count": 14,
   "id": "1926438e",
   "metadata": {},
   "outputs": [
    {
     "data": {
      "text/plain": [
       "[{'id:ID': 'NCBI_9796_PHYHIP',\n",
       "  'x_id': '9796',\n",
       "  ':LABEL': 'Gene/Protein',\n",
       "  'name': 'phyhip',\n",
       "  'source': 'NCBI',\n",
       "  'original_name': 'PHYHIP'},\n",
       " {'id:ID': 'NCBI_7918_GPANK1',\n",
       "  'x_id': '7918',\n",
       "  ':LABEL': 'Gene/Protein',\n",
       "  'name': 'gpank1',\n",
       "  'source': 'NCBI',\n",
       "  'original_name': 'GPANK1'},\n",
       " {'id:ID': 'NCBI_8233_ZRSR2',\n",
       "  'x_id': '8233',\n",
       "  ':LABEL': 'Gene/Protein',\n",
       "  'name': 'zrsr2',\n",
       "  'source': 'NCBI',\n",
       "  'original_name': 'ZRSR2'}]"
      ]
     },
     "execution_count": 14,
     "metadata": {},
     "output_type": "execute_result"
    }
   ],
   "source": [
    "nodes_list[:3]"
   ]
  },
  {
   "cell_type": "code",
   "execution_count": 15,
   "id": "a544153b",
   "metadata": {},
   "outputs": [
    {
     "data": {
      "text/plain": [
       "129375"
      ]
     },
     "execution_count": 15,
     "metadata": {},
     "output_type": "execute_result"
    }
   ],
   "source": [
    "data_len = len(df_nodes)\n",
    "data_len"
   ]
  },
  {
   "cell_type": "code",
   "execution_count": 16,
   "id": "2cf0f6de",
   "metadata": {},
   "outputs": [
    {
     "name": "stderr",
     "output_type": "stream",
     "text": [
      "import nodes to django: Entity:   0%|          | 0/130 [00:01<?, ?it/s]\n"
     ]
    },
    {
     "ename": "IntegrityError",
     "evalue": "duplicate key value violates unique constraint \"searchapp_entity_pkey\"\nDETAIL:  Key (id)=(NCBI_9796_PHYHIP) already exists.\n",
     "output_type": "error",
     "traceback": [
      "\u001b[0;31m---------------------------------------------------------------------------\u001b[0m",
      "\u001b[0;31mUniqueViolation\u001b[0m                           Traceback (most recent call last)",
      "File \u001b[0;32m/usr/local/lib/python3.9/site-packages/django/db/backends/utils.py:89\u001b[0m, in \u001b[0;36mCursorWrapper._execute\u001b[0;34m(self, sql, params, *ignored_wrapper_args)\u001b[0m\n\u001b[1;32m     88\u001b[0m \u001b[38;5;28;01melse\u001b[39;00m:\n\u001b[0;32m---> 89\u001b[0m     \u001b[38;5;28;01mreturn\u001b[39;00m \u001b[38;5;28;43mself\u001b[39;49m\u001b[38;5;241;43m.\u001b[39;49m\u001b[43mcursor\u001b[49m\u001b[38;5;241;43m.\u001b[39;49m\u001b[43mexecute\u001b[49m\u001b[43m(\u001b[49m\u001b[43msql\u001b[49m\u001b[43m,\u001b[49m\u001b[43m \u001b[49m\u001b[43mparams\u001b[49m\u001b[43m)\u001b[49m\n",
      "\u001b[0;31mUniqueViolation\u001b[0m: duplicate key value violates unique constraint \"searchapp_entity_pkey\"\nDETAIL:  Key (id)=(NCBI_9796_PHYHIP) already exists.\n",
      "\nThe above exception was the direct cause of the following exception:\n",
      "\u001b[0;31mIntegrityError\u001b[0m                            Traceback (most recent call last)",
      "Cell \u001b[0;32mIn[16], line 16\u001b[0m\n\u001b[1;32m      5\u001b[0m     entity \u001b[38;5;241m=\u001b[39m Entity(\n\u001b[1;32m      6\u001b[0m         label\u001b[38;5;241m=\u001b[39mlabel,\n\u001b[1;32m      7\u001b[0m         \u001b[38;5;28mid\u001b[39m\u001b[38;5;241m=\u001b[39mrow\u001b[38;5;241m.\u001b[39mget(\u001b[38;5;124m\"\u001b[39m\u001b[38;5;124mid:ID\u001b[39m\u001b[38;5;124m\"\u001b[39m),\n\u001b[0;32m   (...)\u001b[0m\n\u001b[1;32m     13\u001b[0m         }\n\u001b[1;32m     14\u001b[0m     )\n\u001b[1;32m     15\u001b[0m     bulk_data\u001b[38;5;241m.\u001b[39mappend(entity)\n\u001b[0;32m---> 16\u001b[0m \u001b[43mEntity\u001b[49m\u001b[38;5;241;43m.\u001b[39;49m\u001b[43mobjects\u001b[49m\u001b[38;5;241;43m.\u001b[39;49m\u001b[43mbulk_create\u001b[49m\u001b[43m(\u001b[49m\u001b[43mbulk_data\u001b[49m\u001b[43m)\u001b[49m\n",
      "File \u001b[0;32m/usr/local/lib/python3.9/site-packages/django/db/models/manager.py:85\u001b[0m, in \u001b[0;36mBaseManager._get_queryset_methods.<locals>.create_method.<locals>.manager_method\u001b[0;34m(self, *args, **kwargs)\u001b[0m\n\u001b[1;32m     84\u001b[0m \u001b[38;5;28;01mdef\u001b[39;00m \u001b[38;5;21mmanager_method\u001b[39m(\u001b[38;5;28mself\u001b[39m, \u001b[38;5;241m*\u001b[39margs, \u001b[38;5;241m*\u001b[39m\u001b[38;5;241m*\u001b[39mkwargs):\n\u001b[0;32m---> 85\u001b[0m     \u001b[38;5;28;01mreturn\u001b[39;00m \u001b[38;5;28;43mgetattr\u001b[39;49m\u001b[43m(\u001b[49m\u001b[38;5;28;43mself\u001b[39;49m\u001b[38;5;241;43m.\u001b[39;49m\u001b[43mget_queryset\u001b[49m\u001b[43m(\u001b[49m\u001b[43m)\u001b[49m\u001b[43m,\u001b[49m\u001b[43m \u001b[49m\u001b[43mname\u001b[49m\u001b[43m)\u001b[49m\u001b[43m(\u001b[49m\u001b[38;5;241;43m*\u001b[39;49m\u001b[43margs\u001b[49m\u001b[43m,\u001b[49m\u001b[43m \u001b[49m\u001b[38;5;241;43m*\u001b[39;49m\u001b[38;5;241;43m*\u001b[39;49m\u001b[43mkwargs\u001b[49m\u001b[43m)\u001b[49m\n",
      "File \u001b[0;32m/usr/local/lib/python3.9/site-packages/django/db/models/query.py:798\u001b[0m, in \u001b[0;36mQuerySet.bulk_create\u001b[0;34m(self, objs, batch_size, ignore_conflicts, update_conflicts, update_fields, unique_fields)\u001b[0m\n\u001b[1;32m    796\u001b[0m objs_with_pk, objs_without_pk \u001b[38;5;241m=\u001b[39m partition(\u001b[38;5;28;01mlambda\u001b[39;00m o: o\u001b[38;5;241m.\u001b[39mpk \u001b[38;5;129;01mis\u001b[39;00m \u001b[38;5;28;01mNone\u001b[39;00m, objs)\n\u001b[1;32m    797\u001b[0m \u001b[38;5;28;01mif\u001b[39;00m objs_with_pk:\n\u001b[0;32m--> 798\u001b[0m     returned_columns \u001b[38;5;241m=\u001b[39m \u001b[38;5;28;43mself\u001b[39;49m\u001b[38;5;241;43m.\u001b[39;49m\u001b[43m_batched_insert\u001b[49m\u001b[43m(\u001b[49m\n\u001b[1;32m    799\u001b[0m \u001b[43m        \u001b[49m\u001b[43mobjs_with_pk\u001b[49m\u001b[43m,\u001b[49m\n\u001b[1;32m    800\u001b[0m \u001b[43m        \u001b[49m\u001b[43mfields\u001b[49m\u001b[43m,\u001b[49m\n\u001b[1;32m    801\u001b[0m \u001b[43m        \u001b[49m\u001b[43mbatch_size\u001b[49m\u001b[43m,\u001b[49m\n\u001b[1;32m    802\u001b[0m \u001b[43m        \u001b[49m\u001b[43mon_conflict\u001b[49m\u001b[38;5;241;43m=\u001b[39;49m\u001b[43mon_conflict\u001b[49m\u001b[43m,\u001b[49m\n\u001b[1;32m    803\u001b[0m \u001b[43m        \u001b[49m\u001b[43mupdate_fields\u001b[49m\u001b[38;5;241;43m=\u001b[39;49m\u001b[43mupdate_fields\u001b[49m\u001b[43m,\u001b[49m\n\u001b[1;32m    804\u001b[0m \u001b[43m        \u001b[49m\u001b[43munique_fields\u001b[49m\u001b[38;5;241;43m=\u001b[39;49m\u001b[43munique_fields\u001b[49m\u001b[43m,\u001b[49m\n\u001b[1;32m    805\u001b[0m \u001b[43m    \u001b[49m\u001b[43m)\u001b[49m\n\u001b[1;32m    806\u001b[0m     \u001b[38;5;28;01mfor\u001b[39;00m obj_with_pk, results \u001b[38;5;129;01min\u001b[39;00m \u001b[38;5;28mzip\u001b[39m(objs_with_pk, returned_columns):\n\u001b[1;32m    807\u001b[0m         \u001b[38;5;28;01mfor\u001b[39;00m result, field \u001b[38;5;129;01min\u001b[39;00m \u001b[38;5;28mzip\u001b[39m(results, opts\u001b[38;5;241m.\u001b[39mdb_returning_fields):\n",
      "File \u001b[0;32m/usr/local/lib/python3.9/site-packages/django/db/models/query.py:1816\u001b[0m, in \u001b[0;36mQuerySet._batched_insert\u001b[0;34m(self, objs, fields, batch_size, on_conflict, update_fields, unique_fields)\u001b[0m\n\u001b[1;32m   1813\u001b[0m \u001b[38;5;28;01mfor\u001b[39;00m item \u001b[38;5;129;01min\u001b[39;00m [objs[i : i \u001b[38;5;241m+\u001b[39m batch_size] \u001b[38;5;28;01mfor\u001b[39;00m i \u001b[38;5;129;01min\u001b[39;00m \u001b[38;5;28mrange\u001b[39m(\u001b[38;5;241m0\u001b[39m, \u001b[38;5;28mlen\u001b[39m(objs), batch_size)]:\n\u001b[1;32m   1814\u001b[0m     \u001b[38;5;28;01mif\u001b[39;00m bulk_return \u001b[38;5;129;01mand\u001b[39;00m on_conflict \u001b[38;5;129;01mis\u001b[39;00m \u001b[38;5;28;01mNone\u001b[39;00m:\n\u001b[1;32m   1815\u001b[0m         inserted_rows\u001b[38;5;241m.\u001b[39mextend(\n\u001b[0;32m-> 1816\u001b[0m             \u001b[38;5;28;43mself\u001b[39;49m\u001b[38;5;241;43m.\u001b[39;49m\u001b[43m_insert\u001b[49m\u001b[43m(\u001b[49m\n\u001b[1;32m   1817\u001b[0m \u001b[43m                \u001b[49m\u001b[43mitem\u001b[49m\u001b[43m,\u001b[49m\n\u001b[1;32m   1818\u001b[0m \u001b[43m                \u001b[49m\u001b[43mfields\u001b[49m\u001b[38;5;241;43m=\u001b[39;49m\u001b[43mfields\u001b[49m\u001b[43m,\u001b[49m\n\u001b[1;32m   1819\u001b[0m \u001b[43m                \u001b[49m\u001b[43musing\u001b[49m\u001b[38;5;241;43m=\u001b[39;49m\u001b[38;5;28;43mself\u001b[39;49m\u001b[38;5;241;43m.\u001b[39;49m\u001b[43mdb\u001b[49m\u001b[43m,\u001b[49m\n\u001b[1;32m   1820\u001b[0m \u001b[43m                \u001b[49m\u001b[43mreturning_fields\u001b[49m\u001b[38;5;241;43m=\u001b[39;49m\u001b[38;5;28;43mself\u001b[39;49m\u001b[38;5;241;43m.\u001b[39;49m\u001b[43mmodel\u001b[49m\u001b[38;5;241;43m.\u001b[39;49m\u001b[43m_meta\u001b[49m\u001b[38;5;241;43m.\u001b[39;49m\u001b[43mdb_returning_fields\u001b[49m\u001b[43m,\u001b[49m\n\u001b[1;32m   1821\u001b[0m \u001b[43m            \u001b[49m\u001b[43m)\u001b[49m\n\u001b[1;32m   1822\u001b[0m         )\n\u001b[1;32m   1823\u001b[0m     \u001b[38;5;28;01melse\u001b[39;00m:\n\u001b[1;32m   1824\u001b[0m         \u001b[38;5;28mself\u001b[39m\u001b[38;5;241m.\u001b[39m_insert(\n\u001b[1;32m   1825\u001b[0m             item,\n\u001b[1;32m   1826\u001b[0m             fields\u001b[38;5;241m=\u001b[39mfields,\n\u001b[0;32m   (...)\u001b[0m\n\u001b[1;32m   1830\u001b[0m             unique_fields\u001b[38;5;241m=\u001b[39munique_fields,\n\u001b[1;32m   1831\u001b[0m         )\n",
      "File \u001b[0;32m/usr/local/lib/python3.9/site-packages/django/db/models/query.py:1790\u001b[0m, in \u001b[0;36mQuerySet._insert\u001b[0;34m(self, objs, fields, returning_fields, raw, using, on_conflict, update_fields, unique_fields)\u001b[0m\n\u001b[1;32m   1783\u001b[0m query \u001b[38;5;241m=\u001b[39m sql\u001b[38;5;241m.\u001b[39mInsertQuery(\n\u001b[1;32m   1784\u001b[0m     \u001b[38;5;28mself\u001b[39m\u001b[38;5;241m.\u001b[39mmodel,\n\u001b[1;32m   1785\u001b[0m     on_conflict\u001b[38;5;241m=\u001b[39mon_conflict,\n\u001b[1;32m   1786\u001b[0m     update_fields\u001b[38;5;241m=\u001b[39mupdate_fields,\n\u001b[1;32m   1787\u001b[0m     unique_fields\u001b[38;5;241m=\u001b[39munique_fields,\n\u001b[1;32m   1788\u001b[0m )\n\u001b[1;32m   1789\u001b[0m query\u001b[38;5;241m.\u001b[39minsert_values(fields, objs, raw\u001b[38;5;241m=\u001b[39mraw)\n\u001b[0;32m-> 1790\u001b[0m \u001b[38;5;28;01mreturn\u001b[39;00m \u001b[43mquery\u001b[49m\u001b[38;5;241;43m.\u001b[39;49m\u001b[43mget_compiler\u001b[49m\u001b[43m(\u001b[49m\u001b[43musing\u001b[49m\u001b[38;5;241;43m=\u001b[39;49m\u001b[43musing\u001b[49m\u001b[43m)\u001b[49m\u001b[38;5;241;43m.\u001b[39;49m\u001b[43mexecute_sql\u001b[49m\u001b[43m(\u001b[49m\u001b[43mreturning_fields\u001b[49m\u001b[43m)\u001b[49m\n",
      "File \u001b[0;32m/usr/local/lib/python3.9/site-packages/django/db/models/sql/compiler.py:1660\u001b[0m, in \u001b[0;36mSQLInsertCompiler.execute_sql\u001b[0;34m(self, returning_fields)\u001b[0m\n\u001b[1;32m   1658\u001b[0m \u001b[38;5;28;01mwith\u001b[39;00m \u001b[38;5;28mself\u001b[39m\u001b[38;5;241m.\u001b[39mconnection\u001b[38;5;241m.\u001b[39mcursor() \u001b[38;5;28;01mas\u001b[39;00m cursor:\n\u001b[1;32m   1659\u001b[0m     \u001b[38;5;28;01mfor\u001b[39;00m sql, params \u001b[38;5;129;01min\u001b[39;00m \u001b[38;5;28mself\u001b[39m\u001b[38;5;241m.\u001b[39mas_sql():\n\u001b[0;32m-> 1660\u001b[0m         \u001b[43mcursor\u001b[49m\u001b[38;5;241;43m.\u001b[39;49m\u001b[43mexecute\u001b[49m\u001b[43m(\u001b[49m\u001b[43msql\u001b[49m\u001b[43m,\u001b[49m\u001b[43m \u001b[49m\u001b[43mparams\u001b[49m\u001b[43m)\u001b[49m\n\u001b[1;32m   1661\u001b[0m     \u001b[38;5;28;01mif\u001b[39;00m \u001b[38;5;129;01mnot\u001b[39;00m \u001b[38;5;28mself\u001b[39m\u001b[38;5;241m.\u001b[39mreturning_fields:\n\u001b[1;32m   1662\u001b[0m         \u001b[38;5;28;01mreturn\u001b[39;00m []\n",
      "File \u001b[0;32m/usr/local/lib/python3.9/site-packages/django/db/backends/utils.py:103\u001b[0m, in \u001b[0;36mCursorDebugWrapper.execute\u001b[0;34m(self, sql, params)\u001b[0m\n\u001b[1;32m    101\u001b[0m \u001b[38;5;28;01mdef\u001b[39;00m \u001b[38;5;21mexecute\u001b[39m(\u001b[38;5;28mself\u001b[39m, sql, params\u001b[38;5;241m=\u001b[39m\u001b[38;5;28;01mNone\u001b[39;00m):\n\u001b[1;32m    102\u001b[0m     \u001b[38;5;28;01mwith\u001b[39;00m \u001b[38;5;28mself\u001b[39m\u001b[38;5;241m.\u001b[39mdebug_sql(sql, params, use_last_executed_query\u001b[38;5;241m=\u001b[39m\u001b[38;5;28;01mTrue\u001b[39;00m):\n\u001b[0;32m--> 103\u001b[0m         \u001b[38;5;28;01mreturn\u001b[39;00m \u001b[38;5;28;43msuper\u001b[39;49m\u001b[43m(\u001b[49m\u001b[43m)\u001b[49m\u001b[38;5;241;43m.\u001b[39;49m\u001b[43mexecute\u001b[49m\u001b[43m(\u001b[49m\u001b[43msql\u001b[49m\u001b[43m,\u001b[49m\u001b[43m \u001b[49m\u001b[43mparams\u001b[49m\u001b[43m)\u001b[49m\n",
      "File \u001b[0;32m/usr/local/lib/python3.9/site-packages/django/db/backends/utils.py:67\u001b[0m, in \u001b[0;36mCursorWrapper.execute\u001b[0;34m(self, sql, params)\u001b[0m\n\u001b[1;32m     66\u001b[0m \u001b[38;5;28;01mdef\u001b[39;00m \u001b[38;5;21mexecute\u001b[39m(\u001b[38;5;28mself\u001b[39m, sql, params\u001b[38;5;241m=\u001b[39m\u001b[38;5;28;01mNone\u001b[39;00m):\n\u001b[0;32m---> 67\u001b[0m     \u001b[38;5;28;01mreturn\u001b[39;00m \u001b[38;5;28;43mself\u001b[39;49m\u001b[38;5;241;43m.\u001b[39;49m\u001b[43m_execute_with_wrappers\u001b[49m\u001b[43m(\u001b[49m\n\u001b[1;32m     68\u001b[0m \u001b[43m        \u001b[49m\u001b[43msql\u001b[49m\u001b[43m,\u001b[49m\u001b[43m \u001b[49m\u001b[43mparams\u001b[49m\u001b[43m,\u001b[49m\u001b[43m \u001b[49m\u001b[43mmany\u001b[49m\u001b[38;5;241;43m=\u001b[39;49m\u001b[38;5;28;43;01mFalse\u001b[39;49;00m\u001b[43m,\u001b[49m\u001b[43m \u001b[49m\u001b[43mexecutor\u001b[49m\u001b[38;5;241;43m=\u001b[39;49m\u001b[38;5;28;43mself\u001b[39;49m\u001b[38;5;241;43m.\u001b[39;49m\u001b[43m_execute\u001b[49m\n\u001b[1;32m     69\u001b[0m \u001b[43m    \u001b[49m\u001b[43m)\u001b[49m\n",
      "File \u001b[0;32m/usr/local/lib/python3.9/site-packages/django/db/backends/utils.py:80\u001b[0m, in \u001b[0;36mCursorWrapper._execute_with_wrappers\u001b[0;34m(self, sql, params, many, executor)\u001b[0m\n\u001b[1;32m     78\u001b[0m \u001b[38;5;28;01mfor\u001b[39;00m wrapper \u001b[38;5;129;01min\u001b[39;00m \u001b[38;5;28mreversed\u001b[39m(\u001b[38;5;28mself\u001b[39m\u001b[38;5;241m.\u001b[39mdb\u001b[38;5;241m.\u001b[39mexecute_wrappers):\n\u001b[1;32m     79\u001b[0m     executor \u001b[38;5;241m=\u001b[39m functools\u001b[38;5;241m.\u001b[39mpartial(wrapper, executor)\n\u001b[0;32m---> 80\u001b[0m \u001b[38;5;28;01mreturn\u001b[39;00m \u001b[43mexecutor\u001b[49m\u001b[43m(\u001b[49m\u001b[43msql\u001b[49m\u001b[43m,\u001b[49m\u001b[43m \u001b[49m\u001b[43mparams\u001b[49m\u001b[43m,\u001b[49m\u001b[43m \u001b[49m\u001b[43mmany\u001b[49m\u001b[43m,\u001b[49m\u001b[43m \u001b[49m\u001b[43mcontext\u001b[49m\u001b[43m)\u001b[49m\n",
      "File \u001b[0;32m/usr/local/lib/python3.9/site-packages/django/db/backends/utils.py:89\u001b[0m, in \u001b[0;36mCursorWrapper._execute\u001b[0;34m(self, sql, params, *ignored_wrapper_args)\u001b[0m\n\u001b[1;32m     87\u001b[0m     \u001b[38;5;28;01mreturn\u001b[39;00m \u001b[38;5;28mself\u001b[39m\u001b[38;5;241m.\u001b[39mcursor\u001b[38;5;241m.\u001b[39mexecute(sql)\n\u001b[1;32m     88\u001b[0m \u001b[38;5;28;01melse\u001b[39;00m:\n\u001b[0;32m---> 89\u001b[0m     \u001b[38;5;28;01mreturn\u001b[39;00m \u001b[38;5;28mself\u001b[39m\u001b[38;5;241m.\u001b[39mcursor\u001b[38;5;241m.\u001b[39mexecute(sql, params)\n",
      "File \u001b[0;32m/usr/local/lib/python3.9/site-packages/django/db/utils.py:91\u001b[0m, in \u001b[0;36mDatabaseErrorWrapper.__exit__\u001b[0;34m(self, exc_type, exc_value, traceback)\u001b[0m\n\u001b[1;32m     89\u001b[0m \u001b[38;5;28;01mif\u001b[39;00m dj_exc_type \u001b[38;5;129;01mnot\u001b[39;00m \u001b[38;5;129;01min\u001b[39;00m (DataError, IntegrityError):\n\u001b[1;32m     90\u001b[0m     \u001b[38;5;28mself\u001b[39m\u001b[38;5;241m.\u001b[39mwrapper\u001b[38;5;241m.\u001b[39merrors_occurred \u001b[38;5;241m=\u001b[39m \u001b[38;5;28;01mTrue\u001b[39;00m\n\u001b[0;32m---> 91\u001b[0m \u001b[38;5;28;01mraise\u001b[39;00m dj_exc_value\u001b[38;5;241m.\u001b[39mwith_traceback(traceback) \u001b[38;5;28;01mfrom\u001b[39;00m \u001b[38;5;21;01mexc_value\u001b[39;00m\n",
      "File \u001b[0;32m/usr/local/lib/python3.9/site-packages/django/db/backends/utils.py:89\u001b[0m, in \u001b[0;36mCursorWrapper._execute\u001b[0;34m(self, sql, params, *ignored_wrapper_args)\u001b[0m\n\u001b[1;32m     87\u001b[0m     \u001b[38;5;28;01mreturn\u001b[39;00m \u001b[38;5;28mself\u001b[39m\u001b[38;5;241m.\u001b[39mcursor\u001b[38;5;241m.\u001b[39mexecute(sql)\n\u001b[1;32m     88\u001b[0m \u001b[38;5;28;01melse\u001b[39;00m:\n\u001b[0;32m---> 89\u001b[0m     \u001b[38;5;28;01mreturn\u001b[39;00m \u001b[38;5;28;43mself\u001b[39;49m\u001b[38;5;241;43m.\u001b[39;49m\u001b[43mcursor\u001b[49m\u001b[38;5;241;43m.\u001b[39;49m\u001b[43mexecute\u001b[49m\u001b[43m(\u001b[49m\u001b[43msql\u001b[49m\u001b[43m,\u001b[49m\u001b[43m \u001b[49m\u001b[43mparams\u001b[49m\u001b[43m)\u001b[49m\n",
      "\u001b[0;31mIntegrityError\u001b[0m: duplicate key value violates unique constraint \"searchapp_entity_pkey\"\nDETAIL:  Key (id)=(NCBI_9796_PHYHIP) already exists.\n"
     ]
    }
   ],
   "source": [
    "for i in tqdm(range(0, data_len, step), desc=\"import nodes to django: Entity\"):\n",
    "    bulk_data = []\n",
    "    for row in nodes_list[i: i+step]:\n",
    "        label = Label.objects.get(name=row.get(\":LABEL\"))\n",
    "        entity = Entity(\n",
    "            label=label,\n",
    "            id=row.get(\"id:ID\"),\n",
    "            name=row.get(\"original_name\"),\n",
    "            attribute={\n",
    "                \"source\": row.get(\"source\", None),\n",
    "                \"label\": row.get(\":LABEL\"),\n",
    "                \"node_id\": row.get(\"x_id\")\n",
    "            }\n",
    "        )\n",
    "        bulk_data.append(entity)\n",
    "    Entity.objects.bulk_create(bulk_data)"
   ]
  },
  {
   "cell_type": "code",
   "execution_count": 21,
   "id": "36d00fe5",
   "metadata": {},
   "outputs": [],
   "source": [
    "# Label.objects.all().delete()"
   ]
  },
  {
   "cell_type": "code",
   "execution_count": 11,
   "id": "075c1757",
   "metadata": {},
   "outputs": [
    {
     "ename": "IntegrityError",
     "evalue": "update or delete on table \"searchapp_entity\" violates foreign key constraint \"searchapp_link_entity_id_a84cfad5_fk_searchapp_entity_id\" on table \"searchapp_link\"\nDETAIL:  Key (id)=(CTD_C024746_tobacco_tar) is still referenced from table \"searchapp_link\".\n",
     "output_type": "error",
     "traceback": [
      "\u001b[0;31m---------------------------------------------------------------------------\u001b[0m",
      "\u001b[0;31mForeignKeyViolation\u001b[0m                       Traceback (most recent call last)",
      "File \u001b[0;32m/usr/local/lib/python3.9/site-packages/django/db/backends/base/base.py:306\u001b[0m, in \u001b[0;36mBaseDatabaseWrapper._commit\u001b[0;34m(self)\u001b[0m\n\u001b[1;32m    305\u001b[0m \u001b[38;5;28;01mwith\u001b[39;00m \u001b[38;5;28mself\u001b[39m\u001b[38;5;241m.\u001b[39mwrap_database_errors:\n\u001b[0;32m--> 306\u001b[0m     \u001b[38;5;28;01mreturn\u001b[39;00m \u001b[38;5;28;43mself\u001b[39;49m\u001b[38;5;241;43m.\u001b[39;49m\u001b[43mconnection\u001b[49m\u001b[38;5;241;43m.\u001b[39;49m\u001b[43mcommit\u001b[49m\u001b[43m(\u001b[49m\u001b[43m)\u001b[49m\n",
      "\u001b[0;31mForeignKeyViolation\u001b[0m: update or delete on table \"searchapp_entity\" violates foreign key constraint \"searchapp_link_entity_id_a84cfad5_fk_searchapp_entity_id\" on table \"searchapp_link\"\nDETAIL:  Key (id)=(CTD_C024746_tobacco_tar) is still referenced from table \"searchapp_link\".\n",
      "\nThe above exception was the direct cause of the following exception:\n",
      "\u001b[0;31mIntegrityError\u001b[0m                            Traceback (most recent call last)",
      "Cell \u001b[0;32mIn[11], line 1\u001b[0m\n\u001b[0;32m----> 1\u001b[0m \u001b[43mEntity\u001b[49m\u001b[38;5;241;43m.\u001b[39;49m\u001b[43mobjects\u001b[49m\u001b[38;5;241;43m.\u001b[39;49m\u001b[43mall\u001b[49m\u001b[43m(\u001b[49m\u001b[43m)\u001b[49m\u001b[38;5;241;43m.\u001b[39;49m\u001b[43mdelete\u001b[49m\u001b[43m(\u001b[49m\u001b[43m)\u001b[49m\n",
      "File \u001b[0;32m/usr/local/lib/python3.9/site-packages/django/db/models/query.py:1132\u001b[0m, in \u001b[0;36mQuerySet.delete\u001b[0;34m(self)\u001b[0m\n\u001b[1;32m   1130\u001b[0m collector \u001b[38;5;241m=\u001b[39m Collector(using\u001b[38;5;241m=\u001b[39mdel_query\u001b[38;5;241m.\u001b[39mdb, origin\u001b[38;5;241m=\u001b[39m\u001b[38;5;28mself\u001b[39m)\n\u001b[1;32m   1131\u001b[0m collector\u001b[38;5;241m.\u001b[39mcollect(del_query)\n\u001b[0;32m-> 1132\u001b[0m deleted, _rows_count \u001b[38;5;241m=\u001b[39m \u001b[43mcollector\u001b[49m\u001b[38;5;241;43m.\u001b[39;49m\u001b[43mdelete\u001b[49m\u001b[43m(\u001b[49m\u001b[43m)\u001b[49m\n\u001b[1;32m   1134\u001b[0m \u001b[38;5;66;03m# Clear the result cache, in case this QuerySet gets reused.\u001b[39;00m\n\u001b[1;32m   1135\u001b[0m \u001b[38;5;28mself\u001b[39m\u001b[38;5;241m.\u001b[39m_result_cache \u001b[38;5;241m=\u001b[39m \u001b[38;5;28;01mNone\u001b[39;00m\n",
      "File \u001b[0;32m/usr/local/lib/python3.9/site-packages/django/db/models/deletion.py:493\u001b[0m, in \u001b[0;36mCollector.delete\u001b[0;34m(self)\u001b[0m\n\u001b[1;32m    491\u001b[0m         \u001b[38;5;28;01mif\u001b[39;00m \u001b[38;5;129;01mnot\u001b[39;00m model\u001b[38;5;241m.\u001b[39m_meta\u001b[38;5;241m.\u001b[39mauto_created:\n\u001b[1;32m    492\u001b[0m             \u001b[38;5;28;01mfor\u001b[39;00m obj \u001b[38;5;129;01min\u001b[39;00m instances:\n\u001b[0;32m--> 493\u001b[0m                 signals\u001b[38;5;241m.\u001b[39mpost_delete\u001b[38;5;241m.\u001b[39msend(\n\u001b[1;32m    494\u001b[0m                     sender\u001b[38;5;241m=\u001b[39mmodel,\n\u001b[1;32m    495\u001b[0m                     instance\u001b[38;5;241m=\u001b[39mobj,\n\u001b[1;32m    496\u001b[0m                     using\u001b[38;5;241m=\u001b[39m\u001b[38;5;28mself\u001b[39m\u001b[38;5;241m.\u001b[39musing,\n\u001b[1;32m    497\u001b[0m                     origin\u001b[38;5;241m=\u001b[39m\u001b[38;5;28mself\u001b[39m\u001b[38;5;241m.\u001b[39morigin,\n\u001b[1;32m    498\u001b[0m                 )\n\u001b[1;32m    500\u001b[0m \u001b[38;5;66;03m# update collected instances\u001b[39;00m\n\u001b[1;32m    501\u001b[0m \u001b[38;5;28;01mfor\u001b[39;00m instances_for_fieldvalues \u001b[38;5;129;01min\u001b[39;00m \u001b[38;5;28mself\u001b[39m\u001b[38;5;241m.\u001b[39mfield_updates\u001b[38;5;241m.\u001b[39mvalues():\n",
      "File \u001b[0;32m/usr/local/lib/python3.9/site-packages/django/db/transaction.py:262\u001b[0m, in \u001b[0;36mAtomic.__exit__\u001b[0;34m(self, exc_type, exc_value, traceback)\u001b[0m\n\u001b[1;32m    259\u001b[0m \u001b[38;5;28;01melse\u001b[39;00m:\n\u001b[1;32m    260\u001b[0m     \u001b[38;5;66;03m# Commit transaction\u001b[39;00m\n\u001b[1;32m    261\u001b[0m     \u001b[38;5;28;01mtry\u001b[39;00m:\n\u001b[0;32m--> 262\u001b[0m         \u001b[43mconnection\u001b[49m\u001b[38;5;241;43m.\u001b[39;49m\u001b[43mcommit\u001b[49m\u001b[43m(\u001b[49m\u001b[43m)\u001b[49m\n\u001b[1;32m    263\u001b[0m     \u001b[38;5;28;01mexcept\u001b[39;00m DatabaseError:\n\u001b[1;32m    264\u001b[0m         \u001b[38;5;28;01mtry\u001b[39;00m:\n",
      "File \u001b[0;32m/usr/local/lib/python3.9/site-packages/django/utils/asyncio.py:26\u001b[0m, in \u001b[0;36masync_unsafe.<locals>.decorator.<locals>.inner\u001b[0;34m(*args, **kwargs)\u001b[0m\n\u001b[1;32m     24\u001b[0m         \u001b[38;5;28;01mraise\u001b[39;00m SynchronousOnlyOperation(message)\n\u001b[1;32m     25\u001b[0m \u001b[38;5;66;03m# Pass onward.\u001b[39;00m\n\u001b[0;32m---> 26\u001b[0m \u001b[38;5;28;01mreturn\u001b[39;00m \u001b[43mfunc\u001b[49m\u001b[43m(\u001b[49m\u001b[38;5;241;43m*\u001b[39;49m\u001b[43margs\u001b[49m\u001b[43m,\u001b[49m\u001b[43m \u001b[49m\u001b[38;5;241;43m*\u001b[39;49m\u001b[38;5;241;43m*\u001b[39;49m\u001b[43mkwargs\u001b[49m\u001b[43m)\u001b[49m\n",
      "File \u001b[0;32m/usr/local/lib/python3.9/site-packages/django/db/backends/base/base.py:330\u001b[0m, in \u001b[0;36mBaseDatabaseWrapper.commit\u001b[0;34m(self)\u001b[0m\n\u001b[1;32m    328\u001b[0m \u001b[38;5;28mself\u001b[39m\u001b[38;5;241m.\u001b[39mvalidate_thread_sharing()\n\u001b[1;32m    329\u001b[0m \u001b[38;5;28mself\u001b[39m\u001b[38;5;241m.\u001b[39mvalidate_no_atomic_block()\n\u001b[0;32m--> 330\u001b[0m \u001b[38;5;28;43mself\u001b[39;49m\u001b[38;5;241;43m.\u001b[39;49m\u001b[43m_commit\u001b[49m\u001b[43m(\u001b[49m\u001b[43m)\u001b[49m\n\u001b[1;32m    331\u001b[0m \u001b[38;5;66;03m# A successful commit means that the database connection works.\u001b[39;00m\n\u001b[1;32m    332\u001b[0m \u001b[38;5;28mself\u001b[39m\u001b[38;5;241m.\u001b[39merrors_occurred \u001b[38;5;241m=\u001b[39m \u001b[38;5;28;01mFalse\u001b[39;00m\n",
      "File \u001b[0;32m/usr/local/lib/python3.9/site-packages/django/db/backends/base/base.py:306\u001b[0m, in \u001b[0;36mBaseDatabaseWrapper._commit\u001b[0;34m(self)\u001b[0m\n\u001b[1;32m    304\u001b[0m \u001b[38;5;28;01mif\u001b[39;00m \u001b[38;5;28mself\u001b[39m\u001b[38;5;241m.\u001b[39mconnection \u001b[38;5;129;01mis\u001b[39;00m \u001b[38;5;129;01mnot\u001b[39;00m \u001b[38;5;28;01mNone\u001b[39;00m:\n\u001b[1;32m    305\u001b[0m     \u001b[38;5;28;01mwith\u001b[39;00m \u001b[38;5;28mself\u001b[39m\u001b[38;5;241m.\u001b[39mwrap_database_errors:\n\u001b[0;32m--> 306\u001b[0m         \u001b[38;5;28;01mreturn\u001b[39;00m \u001b[38;5;28mself\u001b[39m\u001b[38;5;241m.\u001b[39mconnection\u001b[38;5;241m.\u001b[39mcommit()\n",
      "File \u001b[0;32m/usr/local/lib/python3.9/site-packages/django/db/utils.py:91\u001b[0m, in \u001b[0;36mDatabaseErrorWrapper.__exit__\u001b[0;34m(self, exc_type, exc_value, traceback)\u001b[0m\n\u001b[1;32m     89\u001b[0m \u001b[38;5;28;01mif\u001b[39;00m dj_exc_type \u001b[38;5;129;01mnot\u001b[39;00m \u001b[38;5;129;01min\u001b[39;00m (DataError, IntegrityError):\n\u001b[1;32m     90\u001b[0m     \u001b[38;5;28mself\u001b[39m\u001b[38;5;241m.\u001b[39mwrapper\u001b[38;5;241m.\u001b[39merrors_occurred \u001b[38;5;241m=\u001b[39m \u001b[38;5;28;01mTrue\u001b[39;00m\n\u001b[0;32m---> 91\u001b[0m \u001b[38;5;28;01mraise\u001b[39;00m dj_exc_value\u001b[38;5;241m.\u001b[39mwith_traceback(traceback) \u001b[38;5;28;01mfrom\u001b[39;00m \u001b[38;5;21;01mexc_value\u001b[39;00m\n",
      "File \u001b[0;32m/usr/local/lib/python3.9/site-packages/django/db/backends/base/base.py:306\u001b[0m, in \u001b[0;36mBaseDatabaseWrapper._commit\u001b[0;34m(self)\u001b[0m\n\u001b[1;32m    304\u001b[0m \u001b[38;5;28;01mif\u001b[39;00m \u001b[38;5;28mself\u001b[39m\u001b[38;5;241m.\u001b[39mconnection \u001b[38;5;129;01mis\u001b[39;00m \u001b[38;5;129;01mnot\u001b[39;00m \u001b[38;5;28;01mNone\u001b[39;00m:\n\u001b[1;32m    305\u001b[0m     \u001b[38;5;28;01mwith\u001b[39;00m \u001b[38;5;28mself\u001b[39m\u001b[38;5;241m.\u001b[39mwrap_database_errors:\n\u001b[0;32m--> 306\u001b[0m         \u001b[38;5;28;01mreturn\u001b[39;00m \u001b[38;5;28;43mself\u001b[39;49m\u001b[38;5;241;43m.\u001b[39;49m\u001b[43mconnection\u001b[49m\u001b[38;5;241;43m.\u001b[39;49m\u001b[43mcommit\u001b[49m\u001b[43m(\u001b[49m\u001b[43m)\u001b[49m\n",
      "\u001b[0;31mIntegrityError\u001b[0m: update or delete on table \"searchapp_entity\" violates foreign key constraint \"searchapp_link_entity_id_a84cfad5_fk_searchapp_entity_id\" on table \"searchapp_link\"\nDETAIL:  Key (id)=(CTD_C024746_tobacco_tar) is still referenced from table \"searchapp_link\".\n"
     ]
    }
   ],
   "source": [
    "Entity.objects.all().delete()"
   ]
  },
  {
   "cell_type": "code",
   "execution_count": null,
   "id": "cb5a99e5",
   "metadata": {},
   "outputs": [],
   "source": []
  }
 ],
 "metadata": {
  "kernelspec": {
   "display_name": "Django Shell-Plus",
   "language": "python",
   "name": "django_extensions"
  },
  "language_info": {
   "codemirror_mode": {
    "name": "ipython",
    "version": 3
   },
   "file_extension": ".py",
   "mimetype": "text/x-python",
   "name": "python",
   "nbconvert_exporter": "python",
   "pygments_lexer": "ipython3",
   "version": "3.9.16"
  }
 },
 "nbformat": 4,
 "nbformat_minor": 5
}
