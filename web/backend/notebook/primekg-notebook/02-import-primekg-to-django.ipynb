{
 "cells": [
  {
   "cell_type": "code",
   "execution_count": 3,
   "id": "8c85de2c",
   "metadata": {},
   "outputs": [],
   "source": [
    "import re\n",
    "from typing import List\n",
    "from tqdm import tqdm, trange\n",
    "import pandas as pd"
   ]
  },
  {
   "cell_type": "code",
   "execution_count": 7,
   "id": "1ab39fbf",
   "metadata": {},
   "outputs": [],
   "source": [
    "from searchapp.models import Entity, Label"
   ]
  },
  {
   "cell_type": "code",
   "execution_count": 8,
   "id": "c2e77556",
   "metadata": {
    "scrolled": true
   },
   "outputs": [],
   "source": [
    "df_nodes = pd.read_csv(\"../data/kg_nodes_id.csv\", low_memory=False)"
   ]
  },
  {
   "cell_type": "code",
   "execution_count": 9,
   "id": "fcbd70b3",
   "metadata": {},
   "outputs": [
    {
     "data": {
      "text/html": [
       "<div>\n",
       "<style scoped>\n",
       "    .dataframe tbody tr th:only-of-type {\n",
       "        vertical-align: middle;\n",
       "    }\n",
       "\n",
       "    .dataframe tbody tr th {\n",
       "        vertical-align: top;\n",
       "    }\n",
       "\n",
       "    .dataframe thead th {\n",
       "        text-align: right;\n",
       "    }\n",
       "</style>\n",
       "<table border=\"1\" class=\"dataframe\">\n",
       "  <thead>\n",
       "    <tr style=\"text-align: right;\">\n",
       "      <th></th>\n",
       "      <th>id:ID</th>\n",
       "      <th>x_id</th>\n",
       "      <th>:LABEL</th>\n",
       "      <th>name</th>\n",
       "      <th>source</th>\n",
       "      <th>original_name</th>\n",
       "    </tr>\n",
       "  </thead>\n",
       "  <tbody>\n",
       "    <tr>\n",
       "      <th>0</th>\n",
       "      <td>NCBI_9796_PHYHIP</td>\n",
       "      <td>9796</td>\n",
       "      <td>Gene/Protein</td>\n",
       "      <td>phyhip</td>\n",
       "      <td>NCBI</td>\n",
       "      <td>PHYHIP</td>\n",
       "    </tr>\n",
       "    <tr>\n",
       "      <th>1</th>\n",
       "      <td>NCBI_7918_GPANK1</td>\n",
       "      <td>7918</td>\n",
       "      <td>Gene/Protein</td>\n",
       "      <td>gpank1</td>\n",
       "      <td>NCBI</td>\n",
       "      <td>GPANK1</td>\n",
       "    </tr>\n",
       "    <tr>\n",
       "      <th>2</th>\n",
       "      <td>NCBI_8233_ZRSR2</td>\n",
       "      <td>8233</td>\n",
       "      <td>Gene/Protein</td>\n",
       "      <td>zrsr2</td>\n",
       "      <td>NCBI</td>\n",
       "      <td>ZRSR2</td>\n",
       "    </tr>\n",
       "    <tr>\n",
       "      <th>3</th>\n",
       "      <td>NCBI_4899_NRF1</td>\n",
       "      <td>4899</td>\n",
       "      <td>Gene/Protein</td>\n",
       "      <td>nrf1</td>\n",
       "      <td>NCBI</td>\n",
       "      <td>NRF1</td>\n",
       "    </tr>\n",
       "    <tr>\n",
       "      <th>4</th>\n",
       "      <td>NCBI_5297_PI4KA</td>\n",
       "      <td>5297</td>\n",
       "      <td>Gene/Protein</td>\n",
       "      <td>pi4ka</td>\n",
       "      <td>NCBI</td>\n",
       "      <td>PI4KA</td>\n",
       "    </tr>\n",
       "    <tr>\n",
       "      <th>...</th>\n",
       "      <td>...</td>\n",
       "      <td>...</td>\n",
       "      <td>...</td>\n",
       "      <td>...</td>\n",
       "      <td>...</td>\n",
       "      <td>...</td>\n",
       "    </tr>\n",
       "    <tr>\n",
       "      <th>129370</th>\n",
       "      <td>REACTOME_R-HSA-936837_Ion_transport_by_P-type_...</td>\n",
       "      <td>R-HSA-936837</td>\n",
       "      <td>Pathway</td>\n",
       "      <td>ion transport by p-type atpases</td>\n",
       "      <td>REACTOME</td>\n",
       "      <td>Ion transport by P-type ATPases</td>\n",
       "    </tr>\n",
       "    <tr>\n",
       "      <th>129371</th>\n",
       "      <td>REACTOME_R-HSA-997272_Inhibition__of_voltage_g...</td>\n",
       "      <td>R-HSA-997272</td>\n",
       "      <td>Pathway</td>\n",
       "      <td>inhibition  of voltage gated ca2+ channels via...</td>\n",
       "      <td>REACTOME</td>\n",
       "      <td>Inhibition  of voltage gated Ca2+ channels via...</td>\n",
       "    </tr>\n",
       "    <tr>\n",
       "      <th>129372</th>\n",
       "      <td>UBERON_1062_anatomical_entity</td>\n",
       "      <td>1062</td>\n",
       "      <td>Anatomy</td>\n",
       "      <td>anatomical entity</td>\n",
       "      <td>UBERON</td>\n",
       "      <td>anatomical entity</td>\n",
       "    </tr>\n",
       "    <tr>\n",
       "      <th>129373</th>\n",
       "      <td>UBERON_468_multi-cellular_organism</td>\n",
       "      <td>468</td>\n",
       "      <td>Anatomy</td>\n",
       "      <td>multi-cellular organism</td>\n",
       "      <td>UBERON</td>\n",
       "      <td>multi-cellular organism</td>\n",
       "    </tr>\n",
       "    <tr>\n",
       "      <th>129374</th>\n",
       "      <td>UBERON_992_female_gonad</td>\n",
       "      <td>992</td>\n",
       "      <td>Anatomy</td>\n",
       "      <td>female gonad</td>\n",
       "      <td>UBERON</td>\n",
       "      <td>female gonad</td>\n",
       "    </tr>\n",
       "  </tbody>\n",
       "</table>\n",
       "<p>129375 rows × 6 columns</p>\n",
       "</div>"
      ],
      "text/plain": [
       "                                                    id:ID          x_id  \\\n",
       "0                                        NCBI_9796_PHYHIP          9796   \n",
       "1                                        NCBI_7918_GPANK1          7918   \n",
       "2                                         NCBI_8233_ZRSR2          8233   \n",
       "3                                          NCBI_4899_NRF1          4899   \n",
       "4                                         NCBI_5297_PI4KA          5297   \n",
       "...                                                   ...           ...   \n",
       "129370  REACTOME_R-HSA-936837_Ion_transport_by_P-type_...  R-HSA-936837   \n",
       "129371  REACTOME_R-HSA-997272_Inhibition__of_voltage_g...  R-HSA-997272   \n",
       "129372                      UBERON_1062_anatomical_entity          1062   \n",
       "129373                 UBERON_468_multi-cellular_organism           468   \n",
       "129374                            UBERON_992_female_gonad           992   \n",
       "\n",
       "              :LABEL                                               name  \\\n",
       "0       Gene/Protein                                             phyhip   \n",
       "1       Gene/Protein                                             gpank1   \n",
       "2       Gene/Protein                                              zrsr2   \n",
       "3       Gene/Protein                                               nrf1   \n",
       "4       Gene/Protein                                              pi4ka   \n",
       "...              ...                                                ...   \n",
       "129370       Pathway                    ion transport by p-type atpases   \n",
       "129371       Pathway  inhibition  of voltage gated ca2+ channels via...   \n",
       "129372       Anatomy                                  anatomical entity   \n",
       "129373       Anatomy                            multi-cellular organism   \n",
       "129374       Anatomy                                       female gonad   \n",
       "\n",
       "          source                                      original_name  \n",
       "0           NCBI                                             PHYHIP  \n",
       "1           NCBI                                             GPANK1  \n",
       "2           NCBI                                              ZRSR2  \n",
       "3           NCBI                                               NRF1  \n",
       "4           NCBI                                              PI4KA  \n",
       "...          ...                                                ...  \n",
       "129370  REACTOME                    Ion transport by P-type ATPases  \n",
       "129371  REACTOME  Inhibition  of voltage gated Ca2+ channels via...  \n",
       "129372    UBERON                                  anatomical entity  \n",
       "129373    UBERON                            multi-cellular organism  \n",
       "129374    UBERON                                       female gonad  \n",
       "\n",
       "[129375 rows x 6 columns]"
      ]
     },
     "execution_count": 9,
     "metadata": {},
     "output_type": "execute_result"
    }
   ],
   "source": [
    "df_nodes"
   ]
  },
  {
   "cell_type": "code",
   "execution_count": 10,
   "id": "cc97a8ab",
   "metadata": {},
   "outputs": [
    {
     "data": {
      "text/html": [
       "<div>\n",
       "<style scoped>\n",
       "    .dataframe tbody tr th:only-of-type {\n",
       "        vertical-align: middle;\n",
       "    }\n",
       "\n",
       "    .dataframe tbody tr th {\n",
       "        vertical-align: top;\n",
       "    }\n",
       "\n",
       "    .dataframe thead th {\n",
       "        text-align: right;\n",
       "    }\n",
       "</style>\n",
       "<table border=\"1\" class=\"dataframe\">\n",
       "  <thead>\n",
       "    <tr style=\"text-align: right;\">\n",
       "      <th></th>\n",
       "      <th>id:ID</th>\n",
       "      <th>x_id</th>\n",
       "      <th>:LABEL</th>\n",
       "      <th>name</th>\n",
       "      <th>source</th>\n",
       "      <th>original_name</th>\n",
       "    </tr>\n",
       "  </thead>\n",
       "  <tbody>\n",
       "    <tr>\n",
       "      <th>0</th>\n",
       "      <td>NCBI_9796_PHYHIP</td>\n",
       "      <td>9796</td>\n",
       "      <td>Gene/Protein</td>\n",
       "      <td>phyhip</td>\n",
       "      <td>NCBI</td>\n",
       "      <td>PHYHIP</td>\n",
       "    </tr>\n",
       "    <tr>\n",
       "      <th>1</th>\n",
       "      <td>NCBI_7918_GPANK1</td>\n",
       "      <td>7918</td>\n",
       "      <td>Gene/Protein</td>\n",
       "      <td>gpank1</td>\n",
       "      <td>NCBI</td>\n",
       "      <td>GPANK1</td>\n",
       "    </tr>\n",
       "    <tr>\n",
       "      <th>2</th>\n",
       "      <td>NCBI_8233_ZRSR2</td>\n",
       "      <td>8233</td>\n",
       "      <td>Gene/Protein</td>\n",
       "      <td>zrsr2</td>\n",
       "      <td>NCBI</td>\n",
       "      <td>ZRSR2</td>\n",
       "    </tr>\n",
       "    <tr>\n",
       "      <th>3</th>\n",
       "      <td>NCBI_4899_NRF1</td>\n",
       "      <td>4899</td>\n",
       "      <td>Gene/Protein</td>\n",
       "      <td>nrf1</td>\n",
       "      <td>NCBI</td>\n",
       "      <td>NRF1</td>\n",
       "    </tr>\n",
       "    <tr>\n",
       "      <th>4</th>\n",
       "      <td>NCBI_5297_PI4KA</td>\n",
       "      <td>5297</td>\n",
       "      <td>Gene/Protein</td>\n",
       "      <td>pi4ka</td>\n",
       "      <td>NCBI</td>\n",
       "      <td>PI4KA</td>\n",
       "    </tr>\n",
       "    <tr>\n",
       "      <th>...</th>\n",
       "      <td>...</td>\n",
       "      <td>...</td>\n",
       "      <td>...</td>\n",
       "      <td>...</td>\n",
       "      <td>...</td>\n",
       "      <td>...</td>\n",
       "    </tr>\n",
       "    <tr>\n",
       "      <th>129370</th>\n",
       "      <td>REACTOME_R-HSA-936837_Ion_transport_by_P-type_...</td>\n",
       "      <td>R-HSA-936837</td>\n",
       "      <td>Pathway</td>\n",
       "      <td>ion transport by p-type atpases</td>\n",
       "      <td>REACTOME</td>\n",
       "      <td>Ion transport by P-type ATPases</td>\n",
       "    </tr>\n",
       "    <tr>\n",
       "      <th>129371</th>\n",
       "      <td>REACTOME_R-HSA-997272_Inhibition__of_voltage_g...</td>\n",
       "      <td>R-HSA-997272</td>\n",
       "      <td>Pathway</td>\n",
       "      <td>inhibition  of voltage gated ca2+ channels via...</td>\n",
       "      <td>REACTOME</td>\n",
       "      <td>Inhibition  of voltage gated Ca2+ channels via...</td>\n",
       "    </tr>\n",
       "    <tr>\n",
       "      <th>129372</th>\n",
       "      <td>UBERON_1062_anatomical_entity</td>\n",
       "      <td>1062</td>\n",
       "      <td>Anatomy</td>\n",
       "      <td>anatomical entity</td>\n",
       "      <td>UBERON</td>\n",
       "      <td>anatomical entity</td>\n",
       "    </tr>\n",
       "    <tr>\n",
       "      <th>129373</th>\n",
       "      <td>UBERON_468_multi-cellular_organism</td>\n",
       "      <td>468</td>\n",
       "      <td>Anatomy</td>\n",
       "      <td>multi-cellular organism</td>\n",
       "      <td>UBERON</td>\n",
       "      <td>multi-cellular organism</td>\n",
       "    </tr>\n",
       "    <tr>\n",
       "      <th>129374</th>\n",
       "      <td>UBERON_992_female_gonad</td>\n",
       "      <td>992</td>\n",
       "      <td>Anatomy</td>\n",
       "      <td>female gonad</td>\n",
       "      <td>UBERON</td>\n",
       "      <td>female gonad</td>\n",
       "    </tr>\n",
       "  </tbody>\n",
       "</table>\n",
       "<p>129375 rows × 6 columns</p>\n",
       "</div>"
      ],
      "text/plain": [
       "                                                    id:ID          x_id  \\\n",
       "0                                        NCBI_9796_PHYHIP          9796   \n",
       "1                                        NCBI_7918_GPANK1          7918   \n",
       "2                                         NCBI_8233_ZRSR2          8233   \n",
       "3                                          NCBI_4899_NRF1          4899   \n",
       "4                                         NCBI_5297_PI4KA          5297   \n",
       "...                                                   ...           ...   \n",
       "129370  REACTOME_R-HSA-936837_Ion_transport_by_P-type_...  R-HSA-936837   \n",
       "129371  REACTOME_R-HSA-997272_Inhibition__of_voltage_g...  R-HSA-997272   \n",
       "129372                      UBERON_1062_anatomical_entity          1062   \n",
       "129373                 UBERON_468_multi-cellular_organism           468   \n",
       "129374                            UBERON_992_female_gonad           992   \n",
       "\n",
       "              :LABEL                                               name  \\\n",
       "0       Gene/Protein                                             phyhip   \n",
       "1       Gene/Protein                                             gpank1   \n",
       "2       Gene/Protein                                              zrsr2   \n",
       "3       Gene/Protein                                               nrf1   \n",
       "4       Gene/Protein                                              pi4ka   \n",
       "...              ...                                                ...   \n",
       "129370       Pathway                    ion transport by p-type atpases   \n",
       "129371       Pathway  inhibition  of voltage gated ca2+ channels via...   \n",
       "129372       Anatomy                                  anatomical entity   \n",
       "129373       Anatomy                            multi-cellular organism   \n",
       "129374       Anatomy                                       female gonad   \n",
       "\n",
       "          source                                      original_name  \n",
       "0           NCBI                                             PHYHIP  \n",
       "1           NCBI                                             GPANK1  \n",
       "2           NCBI                                              ZRSR2  \n",
       "3           NCBI                                               NRF1  \n",
       "4           NCBI                                              PI4KA  \n",
       "...          ...                                                ...  \n",
       "129370  REACTOME                    Ion transport by P-type ATPases  \n",
       "129371  REACTOME  Inhibition  of voltage gated Ca2+ channels via...  \n",
       "129372    UBERON                                  anatomical entity  \n",
       "129373    UBERON                            multi-cellular organism  \n",
       "129374    UBERON                                       female gonad  \n",
       "\n",
       "[129375 rows x 6 columns]"
      ]
     },
     "execution_count": 10,
     "metadata": {},
     "output_type": "execute_result"
    }
   ],
   "source": [
    "df_nodes.drop_duplicates(subset=['id:ID'])"
   ]
  },
  {
   "cell_type": "markdown",
   "id": "6e059bce",
   "metadata": {},
   "source": [
    "# Import Label"
   ]
  },
  {
   "cell_type": "code",
   "execution_count": 11,
   "id": "a738eda5",
   "metadata": {
    "scrolled": true
   },
   "outputs": [
    {
     "name": "stdout",
     "output_type": "stream",
     "text": [
      "10\n"
     ]
    },
    {
     "data": {
      "text/plain": [
       "[{'id:ID': 'NCBI_9796_PHYHIP',\n",
       "  'x_id': '9796',\n",
       "  ':LABEL': 'Gene/Protein',\n",
       "  'name': 'phyhip',\n",
       "  'source': 'NCBI',\n",
       "  'original_name': 'PHYHIP'},\n",
       " {'id:ID': 'DrugBank_DB05282_MCC',\n",
       "  'x_id': '4163',\n",
       "  ':LABEL': 'Drug',\n",
       "  'name': 'mcc',\n",
       "  'source': 'DrugBank',\n",
       "  'original_name': 'MCC'},\n",
       " {'id:ID': 'CTD_D003634_DDT',\n",
       "  'x_id': '1652',\n",
       "  ':LABEL': 'Exposure',\n",
       "  'name': 'ddt',\n",
       "  'source': 'CTD',\n",
       "  'original_name': 'DDT'},\n",
       " {'id:ID': 'REACTOME_R-HSA-8877627_Vitamin_E',\n",
       "  'x_id': 'DB00163',\n",
       "  ':LABEL': 'Pathway',\n",
       "  'name': 'vitamin e',\n",
       "  'source': 'REACTOME',\n",
       "  'original_name': 'Vitamin E'},\n",
       " {'id:ID': 'HPO_1507_Growth_abnormality',\n",
       "  'x_id': '1507',\n",
       "  ':LABEL': 'Effect/Phenotype',\n",
       "  'name': 'growth abnormality',\n",
       "  'source': 'HPO',\n",
       "  'original_name': 'Growth abnormality'},\n",
       " {'id:ID': 'MONDO_22330_4-hydroxyphenylacetic_aciduria',\n",
       "  'x_id': '3607',\n",
       "  ':LABEL': 'Disease',\n",
       "  'name': '4-hydroxyphenylacetic aciduria',\n",
       "  'source': 'MONDO',\n",
       "  'original_name': '4-hydroxyphenylacetic aciduria'},\n",
       " {'id:ID': 'UBERON_10361_synostosis',\n",
       "  'x_id': '1411',\n",
       "  ':LABEL': 'Anatomy',\n",
       "  'name': 'synostosis',\n",
       "  'source': 'UBERON',\n",
       "  'original_name': 'synostosis'},\n",
       " {'id:ID': 'GO_51581_negative_regulation_of_neurotransmitter_uptake',\n",
       "  'x_id': '51581',\n",
       "  ':LABEL': 'Biological_Process',\n",
       "  'name': 'negative regulation of neurotransmitter uptake',\n",
       "  'source': 'GO',\n",
       "  'original_name': 'negative regulation of neurotransmitter uptake'},\n",
       " {'id:ID': 'GO_8168_methyltransferase_activity',\n",
       "  'x_id': '8168',\n",
       "  ':LABEL': 'Molecular_Function',\n",
       "  'name': 'methyltransferase activity',\n",
       "  'source': 'GO',\n",
       "  'original_name': 'methyltransferase activity'},\n",
       " {'id:ID': 'GO_110165_cellular_anatomical_entity',\n",
       "  'x_id': '110165',\n",
       "  ':LABEL': 'Cellular_Component',\n",
       "  'name': 'cellular anatomical entity',\n",
       "  'source': 'GO',\n",
       "  'original_name': 'cellular anatomical entity'}]"
      ]
     },
     "execution_count": 11,
     "metadata": {},
     "output_type": "execute_result"
    }
   ],
   "source": [
    "label_data_list = df_nodes.drop_duplicates(subset=[':LABEL']).to_dict(\"records\")\n",
    "print(len(label_data_list))\n",
    "label_data_list"
   ]
  },
  {
   "cell_type": "code",
   "execution_count": 12,
   "id": "406a5308",
   "metadata": {},
   "outputs": [],
   "source": [
    "def create_labels(data) -> List[Label]:\n",
    "    source_site_mapping = {\n",
    "        \"HPO\": \"https://hpo.jax.org/app/browse/term/\",\n",
    "        \"DRUGBANK\": \"https://go.drugbank.com/drugs/\",\n",
    "        \"MONDO\":  \"http://purl.obolibrary.org/obo/MONDO_\",\n",
    "        \"REACTOME\": \"https://reactome.org/content/detail/\",\n",
    "        \"UBERON\":  \"http://purl.obolibrary.org/obo/UBERON_\",\n",
    "        \"NCBI\": \"https://www.ncbi.nlm.nih.gov/gene/\",\n",
    "        \"GO\": \"https://www.ebi.ac.uk/QuickGO/term/GO:\",\n",
    "        \"CTD\": \"https://ctdbase.org/detail.go?type=chem&acc=\"\n",
    "    }\n",
    "    \n",
    "    label_bulk_data = []\n",
    "    for row in data:\n",
    "        name: str = row.get(\":LABEL\")\n",
    "        source: str = row.get(\"source\")\n",
    "        site_url = source_site_mapping.get(source.upper())\n",
    "        \n",
    "        assert site_url is not None, \"site url cannot be Null\"\n",
    "        \n",
    "        label: Label = Label(\n",
    "            name=row.get(\":LABEL\"),\n",
    "            attribute={\n",
    "                \"source\": row.get(\"source\"),\n",
    "                \"url\": site_url\n",
    "            }\n",
    "        ) \n",
    "        label_bulk_data.append(label)\n",
    "    \n",
    "    return label_bulk_data"
   ]
  },
  {
   "cell_type": "code",
   "execution_count": 13,
   "id": "bbaf2b5a",
   "metadata": {},
   "outputs": [
    {
     "data": {
      "text/plain": [
       "[<Label: Gene/Protein>,\n",
       " <Label: Drug>,\n",
       " <Label: Exposure>,\n",
       " <Label: Pathway>,\n",
       " <Label: Effect/Phenotype>,\n",
       " <Label: Disease>,\n",
       " <Label: Anatomy>,\n",
       " <Label: Biological_Process>,\n",
       " <Label: Molecular_Function>,\n",
       " <Label: Cellular_Component>]"
      ]
     },
     "execution_count": 13,
     "metadata": {},
     "output_type": "execute_result"
    }
   ],
   "source": [
    "label_bulk_data = create_labels(label_data_list)\n",
    "label_bulk_data"
   ]
  },
  {
   "cell_type": "code",
   "execution_count": 50,
   "id": "403df967",
   "metadata": {},
   "outputs": [
    {
     "data": {
      "text/plain": [
       "[<Label: Gene/Protein>,\n",
       " <Label: Drug>,\n",
       " <Label: Exposure>,\n",
       " <Label: Pathway>,\n",
       " <Label: Effect/Phenotype>,\n",
       " <Label: Disease>,\n",
       " <Label: Anatomy>,\n",
       " <Label: Biological_Process>,\n",
       " <Label: Molecular_Function>,\n",
       " <Label: Cellular_Component>]"
      ]
     },
     "execution_count": 50,
     "metadata": {},
     "output_type": "execute_result"
    }
   ],
   "source": [
    "Label.objects.bulk_create(label_bulk_data)"
   ]
  },
  {
   "cell_type": "markdown",
   "id": "977e2f2f",
   "metadata": {},
   "source": [
    "# Import Nodes"
   ]
  },
  {
   "cell_type": "code",
   "execution_count": 51,
   "id": "8f3d6149",
   "metadata": {},
   "outputs": [],
   "source": [
    "step = 1_000"
   ]
  },
  {
   "cell_type": "code",
   "execution_count": 52,
   "id": "8f8530de",
   "metadata": {},
   "outputs": [],
   "source": [
    "nodes_list = df_nodes.to_dict(\"records\")"
   ]
  },
  {
   "cell_type": "code",
   "execution_count": 53,
   "id": "1926438e",
   "metadata": {},
   "outputs": [
    {
     "data": {
      "text/plain": [
       "[{'id:ID': 'NCBI_9796_PHYHIP',\n",
       "  'x_id': '9796',\n",
       "  ':LABEL': 'Gene/Protein',\n",
       "  'name': 'phyhip',\n",
       "  'source': 'NCBI',\n",
       "  'original_name': 'PHYHIP'},\n",
       " {'id:ID': 'NCBI_7918_GPANK1',\n",
       "  'x_id': '7918',\n",
       "  ':LABEL': 'Gene/Protein',\n",
       "  'name': 'gpank1',\n",
       "  'source': 'NCBI',\n",
       "  'original_name': 'GPANK1'},\n",
       " {'id:ID': 'NCBI_8233_ZRSR2',\n",
       "  'x_id': '8233',\n",
       "  ':LABEL': 'Gene/Protein',\n",
       "  'name': 'zrsr2',\n",
       "  'source': 'NCBI',\n",
       "  'original_name': 'ZRSR2'}]"
      ]
     },
     "execution_count": 53,
     "metadata": {},
     "output_type": "execute_result"
    }
   ],
   "source": [
    "nodes_list[:3]"
   ]
  },
  {
   "cell_type": "code",
   "execution_count": 34,
   "id": "a544153b",
   "metadata": {},
   "outputs": [
    {
     "data": {
      "text/plain": [
       "129375"
      ]
     },
     "execution_count": 34,
     "metadata": {},
     "output_type": "execute_result"
    }
   ],
   "source": [
    "data_len = len(df_nodes)\n",
    "data_len"
   ]
  },
  {
   "cell_type": "code",
   "execution_count": 57,
   "id": "2cf0f6de",
   "metadata": {},
   "outputs": [
    {
     "name": "stderr",
     "output_type": "stream",
     "text": [
      "import nodes to django: Entity: 100%|██████████| 130/130 [02:35<00:00,  1.20s/it]\n"
     ]
    }
   ],
   "source": [
    "for i in tqdm(range(0, data_len, step), desc=\"import nodes to django: Entity\"):\n",
    "    bulk_data = []\n",
    "    for row in nodes_list[i: i+step]:\n",
    "        label = Label.objects.get(name=row.get(\":LABEL\"))\n",
    "#         node_id = re.sub(r'[{}\\\"\\'=:]', \"_\", str(row.get(\"id:ID\")))\n",
    "#         node_name = re.sub(r'[{}\\\"\\'=:]', \" \", str(row.get(\"original_name\")))\n",
    "        node_id = row.get(\"id:ID\")\n",
    "        node_raw_id = row.get(\"x_id\")\n",
    "        node_name = row.get(\"original_name\")\n",
    "        node_source_name = row.get(\"source\")\n",
    "        node_label_name = row.get(\":LABEL\")\n",
    "        \n",
    "        entity = Entity(\n",
    "            label=label,\n",
    "            id=node_id,\n",
    "            name=node_name,\n",
    "            attribute={\n",
    "                \"source\":node_source_name,\n",
    "                \"label\": node_label_name,\n",
    "                \"id\": node_raw_id,\n",
    "                \"source_url\": label.attribute.get(\"url\")\n",
    "            }\n",
    "        )\n",
    "        bulk_data.append(entity)\n",
    "    Entity.objects.bulk_create(bulk_data)"
   ]
  },
  {
   "cell_type": "code",
   "execution_count": 58,
   "id": "89cbfed2",
   "metadata": {},
   "outputs": [
    {
     "data": {
      "text/plain": [
       "10"
      ]
     },
     "execution_count": 58,
     "metadata": {},
     "output_type": "execute_result"
    }
   ],
   "source": [
    "Label.objects.count()"
   ]
  },
  {
   "cell_type": "code",
   "execution_count": 59,
   "id": "c2458032",
   "metadata": {
    "scrolled": true
   },
   "outputs": [
    {
     "data": {
      "text/plain": [
       "129375"
      ]
     },
     "execution_count": 59,
     "metadata": {},
     "output_type": "execute_result"
    }
   ],
   "source": [
    "Entity.objects.count()"
   ]
  },
  {
   "cell_type": "code",
   "execution_count": 60,
   "id": "1f5aa2d8",
   "metadata": {},
   "outputs": [],
   "source": [
    "# Label.objects.all().delete()"
   ]
  },
  {
   "cell_type": "code",
   "execution_count": 61,
   "id": "36d00fe5",
   "metadata": {},
   "outputs": [],
   "source": [
    "# Link.objects.all().delete()"
   ]
  },
  {
   "cell_type": "code",
   "execution_count": 62,
   "id": "075c1757",
   "metadata": {},
   "outputs": [],
   "source": [
    "# Entity.objects.all().delete()"
   ]
  },
  {
   "cell_type": "code",
   "execution_count": 63,
   "id": "3f927c9f",
   "metadata": {},
   "outputs": [
    {
     "data": {
      "text/plain": [
       "<Label: Gene/Protein>"
      ]
     },
     "execution_count": 63,
     "metadata": {},
     "output_type": "execute_result"
    }
   ],
   "source": [
    "Label.objects.all().first()"
   ]
  },
  {
   "cell_type": "code",
   "execution_count": 65,
   "id": "349159e9",
   "metadata": {},
   "outputs": [
    {
     "name": "stdout",
     "output_type": "stream",
     "text": [
      "https://ctdbase.org/detail.go?type=chem&acc=C000188\n"
     ]
    }
   ],
   "source": [
    "entity = Entity.objects.all().first()\n",
    "print(f'{entity.attribute.get(\"source_url\")}{entity.attribute.get(\"id\")}')"
   ]
  },
  {
   "cell_type": "code",
   "execution_count": null,
   "id": "4298a303",
   "metadata": {},
   "outputs": [],
   "source": []
  }
 ],
 "metadata": {
  "kernelspec": {
   "display_name": "Django Shell-Plus",
   "language": "python",
   "name": "django_extensions"
  },
  "language_info": {
   "codemirror_mode": {
    "name": "ipython",
    "version": 3
   },
   "file_extension": ".py",
   "mimetype": "text/x-python",
   "name": "python",
   "nbconvert_exporter": "python",
   "pygments_lexer": "ipython3",
   "version": "3.9.16"
  }
 },
 "nbformat": 4,
 "nbformat_minor": 5
}
