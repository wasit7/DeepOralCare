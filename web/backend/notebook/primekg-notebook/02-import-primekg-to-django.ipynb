{
 "cells": [
  {
   "cell_type": "code",
   "execution_count": 1,
   "id": "8c85de2c",
   "metadata": {},
   "outputs": [],
   "source": [
    "from tqdm import tqdm, trange\n",
    "import pandas as pd"
   ]
  },
  {
   "cell_type": "code",
   "execution_count": 2,
   "id": "1ab39fbf",
   "metadata": {},
   "outputs": [],
   "source": [
    "from searchapp.models import Entity, Label"
   ]
  },
  {
   "cell_type": "code",
   "execution_count": 3,
   "id": "c2e77556",
   "metadata": {},
   "outputs": [],
   "source": [
    "df_nodes = pd.read_csv(\"../data/kg_nodes.csv\", low_memory=False)"
   ]
  },
  {
   "cell_type": "code",
   "execution_count": 4,
   "id": "fcbd70b3",
   "metadata": {},
   "outputs": [
    {
     "data": {
      "text/html": [
       "<div>\n",
       "<style scoped>\n",
       "    .dataframe tbody tr th:only-of-type {\n",
       "        vertical-align: middle;\n",
       "    }\n",
       "\n",
       "    .dataframe tbody tr th {\n",
       "        vertical-align: top;\n",
       "    }\n",
       "\n",
       "    .dataframe thead th {\n",
       "        text-align: right;\n",
       "    }\n",
       "</style>\n",
       "<table border=\"1\" class=\"dataframe\">\n",
       "  <thead>\n",
       "    <tr style=\"text-align: right;\">\n",
       "      <th></th>\n",
       "      <th>id:ID</th>\n",
       "      <th>:LABEL</th>\n",
       "      <th>name</th>\n",
       "      <th>source</th>\n",
       "      <th>original_name</th>\n",
       "    </tr>\n",
       "  </thead>\n",
       "  <tbody>\n",
       "    <tr>\n",
       "      <th>0</th>\n",
       "      <td>NCBI_9796_PHYHIP</td>\n",
       "      <td>Gene/Protein</td>\n",
       "      <td>phyhip</td>\n",
       "      <td>NCBI</td>\n",
       "      <td>PHYHIP</td>\n",
       "    </tr>\n",
       "    <tr>\n",
       "      <th>1</th>\n",
       "      <td>NCBI_7918_GPANK1</td>\n",
       "      <td>Gene/Protein</td>\n",
       "      <td>gpank1</td>\n",
       "      <td>NCBI</td>\n",
       "      <td>GPANK1</td>\n",
       "    </tr>\n",
       "    <tr>\n",
       "      <th>2</th>\n",
       "      <td>NCBI_8233_ZRSR2</td>\n",
       "      <td>Gene/Protein</td>\n",
       "      <td>zrsr2</td>\n",
       "      <td>NCBI</td>\n",
       "      <td>ZRSR2</td>\n",
       "    </tr>\n",
       "    <tr>\n",
       "      <th>3</th>\n",
       "      <td>NCBI_4899_NRF1</td>\n",
       "      <td>Gene/Protein</td>\n",
       "      <td>nrf1</td>\n",
       "      <td>NCBI</td>\n",
       "      <td>NRF1</td>\n",
       "    </tr>\n",
       "    <tr>\n",
       "      <th>4</th>\n",
       "      <td>NCBI_5297_PI4KA</td>\n",
       "      <td>Gene/Protein</td>\n",
       "      <td>pi4ka</td>\n",
       "      <td>NCBI</td>\n",
       "      <td>PI4KA</td>\n",
       "    </tr>\n",
       "    <tr>\n",
       "      <th>...</th>\n",
       "      <td>...</td>\n",
       "      <td>...</td>\n",
       "      <td>...</td>\n",
       "      <td>...</td>\n",
       "      <td>...</td>\n",
       "    </tr>\n",
       "    <tr>\n",
       "      <th>129370</th>\n",
       "      <td>REACTOME_R-HSA-936837_Ion_transport_by_P-type_...</td>\n",
       "      <td>Pathway</td>\n",
       "      <td>ion transport by p-type atpases</td>\n",
       "      <td>REACTOME</td>\n",
       "      <td>Ion transport by P-type ATPases</td>\n",
       "    </tr>\n",
       "    <tr>\n",
       "      <th>129371</th>\n",
       "      <td>REACTOME_R-HSA-997272_Inhibition__of_voltage_g...</td>\n",
       "      <td>Pathway</td>\n",
       "      <td>inhibition  of voltage gated ca2+ channels via...</td>\n",
       "      <td>REACTOME</td>\n",
       "      <td>Inhibition  of voltage gated Ca2+ channels via...</td>\n",
       "    </tr>\n",
       "    <tr>\n",
       "      <th>129372</th>\n",
       "      <td>UBERON_1062_anatomical_entity</td>\n",
       "      <td>Anatomy</td>\n",
       "      <td>anatomical entity</td>\n",
       "      <td>UBERON</td>\n",
       "      <td>anatomical entity</td>\n",
       "    </tr>\n",
       "    <tr>\n",
       "      <th>129373</th>\n",
       "      <td>UBERON_468_multi-cellular_organism</td>\n",
       "      <td>Anatomy</td>\n",
       "      <td>multi-cellular organism</td>\n",
       "      <td>UBERON</td>\n",
       "      <td>multi-cellular organism</td>\n",
       "    </tr>\n",
       "    <tr>\n",
       "      <th>129374</th>\n",
       "      <td>UBERON_992_female_gonad</td>\n",
       "      <td>Anatomy</td>\n",
       "      <td>female gonad</td>\n",
       "      <td>UBERON</td>\n",
       "      <td>female gonad</td>\n",
       "    </tr>\n",
       "  </tbody>\n",
       "</table>\n",
       "<p>129375 rows × 5 columns</p>\n",
       "</div>"
      ],
      "text/plain": [
       "                                                    id:ID        :LABEL  \\\n",
       "0                                        NCBI_9796_PHYHIP  Gene/Protein   \n",
       "1                                        NCBI_7918_GPANK1  Gene/Protein   \n",
       "2                                         NCBI_8233_ZRSR2  Gene/Protein   \n",
       "3                                          NCBI_4899_NRF1  Gene/Protein   \n",
       "4                                         NCBI_5297_PI4KA  Gene/Protein   \n",
       "...                                                   ...           ...   \n",
       "129370  REACTOME_R-HSA-936837_Ion_transport_by_P-type_...       Pathway   \n",
       "129371  REACTOME_R-HSA-997272_Inhibition__of_voltage_g...       Pathway   \n",
       "129372                      UBERON_1062_anatomical_entity       Anatomy   \n",
       "129373                 UBERON_468_multi-cellular_organism       Anatomy   \n",
       "129374                            UBERON_992_female_gonad       Anatomy   \n",
       "\n",
       "                                                     name    source  \\\n",
       "0                                                  phyhip      NCBI   \n",
       "1                                                  gpank1      NCBI   \n",
       "2                                                   zrsr2      NCBI   \n",
       "3                                                    nrf1      NCBI   \n",
       "4                                                   pi4ka      NCBI   \n",
       "...                                                   ...       ...   \n",
       "129370                    ion transport by p-type atpases  REACTOME   \n",
       "129371  inhibition  of voltage gated ca2+ channels via...  REACTOME   \n",
       "129372                                  anatomical entity    UBERON   \n",
       "129373                            multi-cellular organism    UBERON   \n",
       "129374                                       female gonad    UBERON   \n",
       "\n",
       "                                            original_name  \n",
       "0                                                  PHYHIP  \n",
       "1                                                  GPANK1  \n",
       "2                                                   ZRSR2  \n",
       "3                                                    NRF1  \n",
       "4                                                   PI4KA  \n",
       "...                                                   ...  \n",
       "129370                    Ion transport by P-type ATPases  \n",
       "129371  Inhibition  of voltage gated Ca2+ channels via...  \n",
       "129372                                  anatomical entity  \n",
       "129373                            multi-cellular organism  \n",
       "129374                                       female gonad  \n",
       "\n",
       "[129375 rows x 5 columns]"
      ]
     },
     "execution_count": 4,
     "metadata": {},
     "output_type": "execute_result"
    }
   ],
   "source": [
    "df_nodes"
   ]
  },
  {
   "cell_type": "code",
   "execution_count": 5,
   "id": "cc97a8ab",
   "metadata": {},
   "outputs": [
    {
     "data": {
      "text/html": [
       "<div>\n",
       "<style scoped>\n",
       "    .dataframe tbody tr th:only-of-type {\n",
       "        vertical-align: middle;\n",
       "    }\n",
       "\n",
       "    .dataframe tbody tr th {\n",
       "        vertical-align: top;\n",
       "    }\n",
       "\n",
       "    .dataframe thead th {\n",
       "        text-align: right;\n",
       "    }\n",
       "</style>\n",
       "<table border=\"1\" class=\"dataframe\">\n",
       "  <thead>\n",
       "    <tr style=\"text-align: right;\">\n",
       "      <th></th>\n",
       "      <th>id:ID</th>\n",
       "      <th>:LABEL</th>\n",
       "      <th>name</th>\n",
       "      <th>source</th>\n",
       "      <th>original_name</th>\n",
       "    </tr>\n",
       "  </thead>\n",
       "  <tbody>\n",
       "    <tr>\n",
       "      <th>0</th>\n",
       "      <td>NCBI_9796_PHYHIP</td>\n",
       "      <td>Gene/Protein</td>\n",
       "      <td>phyhip</td>\n",
       "      <td>NCBI</td>\n",
       "      <td>PHYHIP</td>\n",
       "    </tr>\n",
       "    <tr>\n",
       "      <th>1</th>\n",
       "      <td>NCBI_7918_GPANK1</td>\n",
       "      <td>Gene/Protein</td>\n",
       "      <td>gpank1</td>\n",
       "      <td>NCBI</td>\n",
       "      <td>GPANK1</td>\n",
       "    </tr>\n",
       "    <tr>\n",
       "      <th>2</th>\n",
       "      <td>NCBI_8233_ZRSR2</td>\n",
       "      <td>Gene/Protein</td>\n",
       "      <td>zrsr2</td>\n",
       "      <td>NCBI</td>\n",
       "      <td>ZRSR2</td>\n",
       "    </tr>\n",
       "    <tr>\n",
       "      <th>3</th>\n",
       "      <td>NCBI_4899_NRF1</td>\n",
       "      <td>Gene/Protein</td>\n",
       "      <td>nrf1</td>\n",
       "      <td>NCBI</td>\n",
       "      <td>NRF1</td>\n",
       "    </tr>\n",
       "    <tr>\n",
       "      <th>4</th>\n",
       "      <td>NCBI_5297_PI4KA</td>\n",
       "      <td>Gene/Protein</td>\n",
       "      <td>pi4ka</td>\n",
       "      <td>NCBI</td>\n",
       "      <td>PI4KA</td>\n",
       "    </tr>\n",
       "    <tr>\n",
       "      <th>...</th>\n",
       "      <td>...</td>\n",
       "      <td>...</td>\n",
       "      <td>...</td>\n",
       "      <td>...</td>\n",
       "      <td>...</td>\n",
       "    </tr>\n",
       "    <tr>\n",
       "      <th>129370</th>\n",
       "      <td>REACTOME_R-HSA-936837_Ion_transport_by_P-type_...</td>\n",
       "      <td>Pathway</td>\n",
       "      <td>ion transport by p-type atpases</td>\n",
       "      <td>REACTOME</td>\n",
       "      <td>Ion transport by P-type ATPases</td>\n",
       "    </tr>\n",
       "    <tr>\n",
       "      <th>129371</th>\n",
       "      <td>REACTOME_R-HSA-997272_Inhibition__of_voltage_g...</td>\n",
       "      <td>Pathway</td>\n",
       "      <td>inhibition  of voltage gated ca2+ channels via...</td>\n",
       "      <td>REACTOME</td>\n",
       "      <td>Inhibition  of voltage gated Ca2+ channels via...</td>\n",
       "    </tr>\n",
       "    <tr>\n",
       "      <th>129372</th>\n",
       "      <td>UBERON_1062_anatomical_entity</td>\n",
       "      <td>Anatomy</td>\n",
       "      <td>anatomical entity</td>\n",
       "      <td>UBERON</td>\n",
       "      <td>anatomical entity</td>\n",
       "    </tr>\n",
       "    <tr>\n",
       "      <th>129373</th>\n",
       "      <td>UBERON_468_multi-cellular_organism</td>\n",
       "      <td>Anatomy</td>\n",
       "      <td>multi-cellular organism</td>\n",
       "      <td>UBERON</td>\n",
       "      <td>multi-cellular organism</td>\n",
       "    </tr>\n",
       "    <tr>\n",
       "      <th>129374</th>\n",
       "      <td>UBERON_992_female_gonad</td>\n",
       "      <td>Anatomy</td>\n",
       "      <td>female gonad</td>\n",
       "      <td>UBERON</td>\n",
       "      <td>female gonad</td>\n",
       "    </tr>\n",
       "  </tbody>\n",
       "</table>\n",
       "<p>129375 rows × 5 columns</p>\n",
       "</div>"
      ],
      "text/plain": [
       "                                                    id:ID        :LABEL  \\\n",
       "0                                        NCBI_9796_PHYHIP  Gene/Protein   \n",
       "1                                        NCBI_7918_GPANK1  Gene/Protein   \n",
       "2                                         NCBI_8233_ZRSR2  Gene/Protein   \n",
       "3                                          NCBI_4899_NRF1  Gene/Protein   \n",
       "4                                         NCBI_5297_PI4KA  Gene/Protein   \n",
       "...                                                   ...           ...   \n",
       "129370  REACTOME_R-HSA-936837_Ion_transport_by_P-type_...       Pathway   \n",
       "129371  REACTOME_R-HSA-997272_Inhibition__of_voltage_g...       Pathway   \n",
       "129372                      UBERON_1062_anatomical_entity       Anatomy   \n",
       "129373                 UBERON_468_multi-cellular_organism       Anatomy   \n",
       "129374                            UBERON_992_female_gonad       Anatomy   \n",
       "\n",
       "                                                     name    source  \\\n",
       "0                                                  phyhip      NCBI   \n",
       "1                                                  gpank1      NCBI   \n",
       "2                                                   zrsr2      NCBI   \n",
       "3                                                    nrf1      NCBI   \n",
       "4                                                   pi4ka      NCBI   \n",
       "...                                                   ...       ...   \n",
       "129370                    ion transport by p-type atpases  REACTOME   \n",
       "129371  inhibition  of voltage gated ca2+ channels via...  REACTOME   \n",
       "129372                                  anatomical entity    UBERON   \n",
       "129373                            multi-cellular organism    UBERON   \n",
       "129374                                       female gonad    UBERON   \n",
       "\n",
       "                                            original_name  \n",
       "0                                                  PHYHIP  \n",
       "1                                                  GPANK1  \n",
       "2                                                   ZRSR2  \n",
       "3                                                    NRF1  \n",
       "4                                                   PI4KA  \n",
       "...                                                   ...  \n",
       "129370                    Ion transport by P-type ATPases  \n",
       "129371  Inhibition  of voltage gated Ca2+ channels via...  \n",
       "129372                                  anatomical entity  \n",
       "129373                            multi-cellular organism  \n",
       "129374                                       female gonad  \n",
       "\n",
       "[129375 rows x 5 columns]"
      ]
     },
     "execution_count": 5,
     "metadata": {},
     "output_type": "execute_result"
    }
   ],
   "source": [
    "df_nodes.drop_duplicates(subset=['id:ID'])"
   ]
  },
  {
   "cell_type": "markdown",
   "id": "6e059bce",
   "metadata": {},
   "source": [
    "# Import Label"
   ]
  },
  {
   "cell_type": "code",
   "execution_count": 6,
   "id": "a738eda5",
   "metadata": {
    "scrolled": true
   },
   "outputs": [
    {
     "name": "stdout",
     "output_type": "stream",
     "text": [
      "10\n"
     ]
    },
    {
     "data": {
      "text/plain": [
       "[{'id:ID': 'NCBI_9796_PHYHIP',\n",
       "  ':LABEL': 'Gene/Protein',\n",
       "  'name': 'phyhip',\n",
       "  'source': 'NCBI',\n",
       "  'original_name': 'PHYHIP'},\n",
       " {'id:ID': 'DrugBank_DB09130_Copper',\n",
       "  ':LABEL': 'Drug',\n",
       "  'name': 'copper',\n",
       "  'source': 'DrugBank',\n",
       "  'original_name': 'Copper'}]"
      ]
     },
     "execution_count": 6,
     "metadata": {},
     "output_type": "execute_result"
    }
   ],
   "source": [
    "label_data_list = df_nodes.drop_duplicates(subset=[':LABEL']).to_dict(\"records\")\n",
    "print(len(label_data_list))\n",
    "label_data_list[:2]"
   ]
  },
  {
   "cell_type": "code",
   "execution_count": 17,
   "id": "bbaf2b5a",
   "metadata": {},
   "outputs": [
    {
     "data": {
      "text/plain": [
       "[<Label: Gene/Protein>,\n",
       " <Label: Drug>,\n",
       " <Label: Effect/Phenotype>,\n",
       " <Label: Disease>,\n",
       " <Label: Biological_Process>,\n",
       " <Label: Molecular_Function>,\n",
       " <Label: Cellular_Component>,\n",
       " <Label: Exposure>,\n",
       " <Label: Pathway>,\n",
       " <Label: Anatomy>]"
      ]
     },
     "execution_count": 17,
     "metadata": {},
     "output_type": "execute_result"
    }
   ],
   "source": [
    "label_bulk_data = [Label(name=row.get(\":LABEL\")) for row in label_data_list]\n",
    "label_bulk_data"
   ]
  },
  {
   "cell_type": "code",
   "execution_count": 19,
   "id": "403df967",
   "metadata": {},
   "outputs": [
    {
     "data": {
      "text/plain": [
       "[<Label: Gene/Protein>,\n",
       " <Label: Drug>,\n",
       " <Label: Effect/Phenotype>,\n",
       " <Label: Disease>,\n",
       " <Label: Biological_Process>,\n",
       " <Label: Molecular_Function>,\n",
       " <Label: Cellular_Component>,\n",
       " <Label: Exposure>,\n",
       " <Label: Pathway>,\n",
       " <Label: Anatomy>]"
      ]
     },
     "execution_count": 19,
     "metadata": {},
     "output_type": "execute_result"
    }
   ],
   "source": [
    "Label.objects.bulk_create(label_bulk_data)"
   ]
  },
  {
   "cell_type": "markdown",
   "id": "977e2f2f",
   "metadata": {},
   "source": [
    "# Import Nodes"
   ]
  },
  {
   "cell_type": "code",
   "execution_count": 10,
   "id": "8f3d6149",
   "metadata": {},
   "outputs": [],
   "source": [
    "step = 1_000"
   ]
  },
  {
   "cell_type": "code",
   "execution_count": 11,
   "id": "8f8530de",
   "metadata": {},
   "outputs": [],
   "source": [
    "nodes_list = df_nodes.to_dict(\"records\")"
   ]
  },
  {
   "cell_type": "code",
   "execution_count": 13,
   "id": "1926438e",
   "metadata": {},
   "outputs": [
    {
     "data": {
      "text/plain": [
       "[{'id:ID': 'NCBI_9796_PHYHIP',\n",
       "  ':LABEL': 'Gene/Protein',\n",
       "  'name': 'phyhip',\n",
       "  'source': 'NCBI',\n",
       "  'original_name': 'PHYHIP'},\n",
       " {'id:ID': 'NCBI_7918_GPANK1',\n",
       "  ':LABEL': 'Gene/Protein',\n",
       "  'name': 'gpank1',\n",
       "  'source': 'NCBI',\n",
       "  'original_name': 'GPANK1'},\n",
       " {'id:ID': 'NCBI_8233_ZRSR2',\n",
       "  ':LABEL': 'Gene/Protein',\n",
       "  'name': 'zrsr2',\n",
       "  'source': 'NCBI',\n",
       "  'original_name': 'ZRSR2'}]"
      ]
     },
     "execution_count": 13,
     "metadata": {},
     "output_type": "execute_result"
    }
   ],
   "source": [
    "nodes_list[:3]"
   ]
  },
  {
   "cell_type": "code",
   "execution_count": 12,
   "id": "a544153b",
   "metadata": {},
   "outputs": [
    {
     "data": {
      "text/plain": [
       "129375"
      ]
     },
     "execution_count": 12,
     "metadata": {},
     "output_type": "execute_result"
    }
   ],
   "source": [
    "data_len = len(df_nodes)\n",
    "data_len"
   ]
  },
  {
   "cell_type": "code",
   "execution_count": 20,
   "id": "2cf0f6de",
   "metadata": {},
   "outputs": [
    {
     "name": "stderr",
     "output_type": "stream",
     "text": [
      "import nodes to django: Entity: 100%|██████████| 130/130 [02:28<00:00,  1.14s/it]\n"
     ]
    }
   ],
   "source": [
    "for i in tqdm(range(0, data_len, step), desc=\"import nodes to django: Entity\"):\n",
    "    bulk_data = []\n",
    "    for row in nodes_list[i: i+step]:\n",
    "        label = Label.objects.get(name=row.get(\":LABEL\"))\n",
    "        entity = Entity(\n",
    "            label=label,\n",
    "            id=row.get(\"id:ID\"),\n",
    "            name=row.get(\"original_name\"),\n",
    "            attribute={\n",
    "                \"source\": row.get(\"source\", None),\n",
    "                \"label\": row.get(\":LABEL\")\n",
    "            }\n",
    "        )\n",
    "        bulk_data.append(entity)\n",
    "    Entity.objects.bulk_create(bulk_data)"
   ]
  },
  {
   "cell_type": "code",
   "execution_count": 21,
   "id": "36d00fe5",
   "metadata": {},
   "outputs": [],
   "source": [
    "# Label.objects.all().delete()"
   ]
  },
  {
   "cell_type": "code",
   "execution_count": 22,
   "id": "075c1757",
   "metadata": {},
   "outputs": [],
   "source": [
    "# Entity.objects.all().delete()"
   ]
  },
  {
   "cell_type": "code",
   "execution_count": null,
   "id": "cb5a99e5",
   "metadata": {},
   "outputs": [],
   "source": []
  }
 ],
 "metadata": {
  "kernelspec": {
   "display_name": "Django Shell-Plus",
   "language": "python",
   "name": "django_extensions"
  },
  "language_info": {
   "codemirror_mode": {
    "name": "ipython",
    "version": 3
   },
   "file_extension": ".py",
   "mimetype": "text/x-python",
   "name": "python",
   "nbconvert_exporter": "python",
   "pygments_lexer": "ipython3",
   "version": "3.9.16"
  }
 },
 "nbformat": 4,
 "nbformat_minor": 5
}
