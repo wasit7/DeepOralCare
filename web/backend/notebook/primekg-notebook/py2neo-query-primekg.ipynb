{
 "cells": [
  {
   "cell_type": "code",
   "execution_count": 1,
   "id": "353ae974",
   "metadata": {},
   "outputs": [],
   "source": [
    "from py2neo import Graph"
   ]
  },
  {
   "cell_type": "code",
   "execution_count": 2,
   "id": "a36123ee",
   "metadata": {},
   "outputs": [],
   "source": [
    "from searchapp.models import *"
   ]
  },
  {
   "cell_type": "code",
   "execution_count": 3,
   "id": "d30b4b48",
   "metadata": {},
   "outputs": [],
   "source": [
    "graph = Graph(\"bolt://neo4j:7687\", auth=(\"neo4j\", \"123qweqwe\"))"
   ]
  },
  {
   "cell_type": "code",
   "execution_count": 4,
   "id": "760f4e37",
   "metadata": {},
   "outputs": [],
   "source": [
    "ids = ['MONDO_5515_oral_cavity_cancer', 'CTD_C024746_tobacco_tar']"
   ]
  },
  {
   "cell_type": "code",
   "execution_count": 5,
   "id": "6b0d8ea8",
   "metadata": {},
   "outputs": [],
   "source": [
    "hop = 5"
   ]
  },
  {
   "cell_type": "code",
   "execution_count": 6,
   "id": "02a207ef",
   "metadata": {},
   "outputs": [],
   "source": [
    "query = graph.query(f\"\"\"\n",
    "        MATCH (n)\n",
    "        RETURN n\n",
    "        LIMIT 10;\n",
    "    \"\"\")"
   ]
  },
  {
   "cell_type": "code",
   "execution_count": 7,
   "id": "e8ab2bc8",
   "metadata": {},
   "outputs": [
    {
     "data": {
      "text/plain": [
       "[{'n': Node('Gene/Protein', id='NCBI_9796_PHYHIP', name='phyhip', original_name='PHYHIP', source='NCBI')},\n",
       " {'n': Node('Gene/Protein', id='NCBI_7918_GPANK1', name='gpank1', original_name='GPANK1', source='NCBI')},\n",
       " {'n': Node('Gene/Protein', id='NCBI_8233_ZRSR2', name='zrsr2', original_name='ZRSR2', source='NCBI')},\n",
       " {'n': Node('Gene/Protein', id='NCBI_4899_NRF1', name='nrf1', original_name='NRF1', source='NCBI')},\n",
       " {'n': Node('Gene/Protein', id='NCBI_5297_PI4KA', name='pi4ka', original_name='PI4KA', source='NCBI')},\n",
       " {'n': Node('Gene/Protein', id='NCBI_6564_SLC15A1', name='slc15a1', original_name='SLC15A1', source='NCBI')},\n",
       " {'n': Node('Gene/Protein', id='NCBI_8668_EIF3I', name='eif3i', original_name='EIF3I', source='NCBI')},\n",
       " {'n': Node('Gene/Protein', id='NCBI_10826_FAXDC2', name='faxdc2', original_name='FAXDC2', source='NCBI')},\n",
       " {'n': Node('Gene/Protein', id='NCBI_4489_MT1A', name='mt1a', original_name='MT1A', source='NCBI')},\n",
       " {'n': Node('Gene/Protein', id='NCBI_6272_SORT1', name='sort1', original_name='SORT1', source='NCBI')}]"
      ]
     },
     "execution_count": 7,
     "metadata": {},
     "output_type": "execute_result"
    }
   ],
   "source": [
    "data = query.data()\n",
    "data"
   ]
  },
  {
   "cell_type": "code",
   "execution_count": 8,
   "id": "41f75dad",
   "metadata": {},
   "outputs": [],
   "source": [
    "query = graph.query(f\"\"\"\n",
    "        MATCH (n) where n.id IN [\"{'\",\"'.join(ids)}\"]\n",
    "        WITH collect(n) as nodes\n",
    "        UNWIND nodes as n\n",
    "        UNWIND nodes as m\n",
    "        WITH * WHERE id(n) < id(m)\n",
    "        MATCH path = shortestpath( (n)-[r *..{hop}]-(m))\n",
    "        RETURN path\n",
    "        LIMIT 10;\n",
    "    \"\"\")"
   ]
  },
  {
   "cell_type": "code",
   "execution_count": 9,
   "id": "14beeae4",
   "metadata": {
    "scrolled": true
   },
   "outputs": [
    {
     "data": {
      "text/plain": [
       "[{'path': Path(Node('Exposure', id='CTD_C024746_tobacco_tar', name='tobacco tar', original_name='tobacco tar', source='CTD'), Exposure_Disease(Node('Disease', id='MONDO_grouped_3781_5607_18597_bronchitis', name='bronchitis', original_name='bronchitis', source='MONDO_grouped'), Node('Exposure', id='CTD_C024746_tobacco_tar', name='tobacco tar', original_name='tobacco tar', source='CTD'), name='linked to'), Disease_Protein(Node('Gene/Protein', id='NCBI_7422_VEGFA', name='vegfa', original_name='VEGFA', source='NCBI'), Node('Disease', id='MONDO_grouped_3781_5607_18597_bronchitis', name='bronchitis', original_name='bronchitis', source='MONDO_grouped'), name='associated with'), Disease_Protein(Node('Gene/Protein', id='NCBI_7422_VEGFA', name='vegfa', original_name='VEGFA', source='NCBI'), Node('Disease', id='MONDO_5627_head_and_neck_cancer', name='head and neck cancer', original_name='head and neck cancer', source='MONDO'), name='associated with'), Disease_Disease(Node('Disease', id='MONDO_5515_oral_cavity_cancer', name='oral cavity cancer', original_name='oral cavity cancer', source='MONDO'), Node('Disease', id='MONDO_5627_head_and_neck_cancer', name='head and neck cancer', original_name='head and neck cancer', source='MONDO'), name='parent-child'))}]"
      ]
     },
     "execution_count": 9,
     "metadata": {},
     "output_type": "execute_result"
    }
   ],
   "source": [
    "data = query.data()\n",
    "data"
   ]
  },
  {
   "cell_type": "code",
   "execution_count": 11,
   "id": "104ff8f3",
   "metadata": {},
   "outputs": [],
   "source": [
    "labels_qs = Label.objects.all()"
   ]
  },
  {
   "cell_type": "code",
   "execution_count": 12,
   "id": "6825f653",
   "metadata": {},
   "outputs": [
    {
     "name": "stdout",
     "output_type": "stream",
     "text": [
      "Gene/Protein\n",
      "Drug\n",
      "Effect/Phenotype\n",
      "Disease\n",
      "Biological_Process\n",
      "Molecular_Function\n",
      "Cellular_Component\n",
      "Exposure\n",
      "Pathway\n",
      "Anatomy\n"
     ]
    }
   ],
   "source": [
    "for label in labels_qs:\n",
    "        print(label.name)"
   ]
  },
  {
   "cell_type": "code",
   "execution_count": null,
   "id": "d2e92aec",
   "metadata": {},
   "outputs": [],
   "source": []
  }
 ],
 "metadata": {
  "kernelspec": {
   "display_name": "Django Shell-Plus",
   "language": "python",
   "name": "django_extensions"
  },
  "language_info": {
   "codemirror_mode": {
    "name": "ipython",
    "version": 3
   },
   "file_extension": ".py",
   "mimetype": "text/x-python",
   "name": "python",
   "nbconvert_exporter": "python",
   "pygments_lexer": "ipython3",
   "version": "3.9.16"
  }
 },
 "nbformat": 4,
 "nbformat_minor": 5
}
